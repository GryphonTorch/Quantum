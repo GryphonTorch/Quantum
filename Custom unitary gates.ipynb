{
 "cells": [
  {
   "cell_type": "markdown",
   "id": "0fdf443d",
   "metadata": {},
   "source": [
    "### Custom unitary gate approach (22 Jan)\n",
    "\n",
    "See documentation at https://qiskit.org/documentation/tutorials/simulators/4_custom_gate_noise.html \n",
    "We now implement the unitary propagator operator U (derived from Kraus operator, time-dependent) as a Qiskit Operator block directly - no need to implement the layering ourselves. \n",
    "\n",
    "TODO: The issue now is that my computed U is not unitary."
   ]
  },
  {
   "cell_type": "code",
   "execution_count": 2,
   "id": "fa11184c",
   "metadata": {},
   "outputs": [],
   "source": [
    "from qiskit import transpile, QuantumCircuit\n",
    "import qiskit.quantum_info as qi\n",
    "import numpy as np\n",
    "from qiskit_aer import AerSimulator\n",
    "from qiskit_aer.noise import NoiseModel, amplitude_damping_error\n",
    "from qiskit.tools.visualization import plot_histogram\n"
   ]
  },
  {
   "cell_type": "markdown",
   "id": "17d480af",
   "metadata": {},
   "source": [
    "### Propagator math\n",
    "\n",
    "Any operator M can be decomposed into a Hermitian and anti-Hermitian component.\n",
    "\n",
    "Definitions - Hermitian: $H^\\dagger = H$ ; anti-Hermitian: $H^\\dagger = -H$\n",
    "\n",
    "Unitary matrix: $U^\\dagger U = I$\n",
    "\n",
    "$A = \\frac{A + A^\\dagger}{2} + \\frac{A - A^\\dagger}{2} = B + C$\n",
    "\n",
    "Hermitian:\n",
    "$B^\\dagger = \\frac{A^\\dagger + A}{2} = B$\n",
    "\n",
    "Anti-Hermitian:\n",
    "$C^\\dagger = \\frac{A^\\dagger - A}{2} = -C$\n",
    "\n",
    "Propagator $U = \n",
    "\\begin{pmatrix}\n",
    "S_m & 0 & 0 & 0\\\\\n",
    "0 & -S_p & 0 & 0\\\\\n",
    "0 & 0 & -A_m & 0\\\\\n",
    "0 & 0 & 0 & A_p\n",
    "\\end{pmatrix}\n",
    "$\n",
    "\n",
    "### Useful built-in functions\n",
    "- matrix.transpose()\n",
    "- matrix.getH() for conjugate transpose\n",
    "- np.identity(N)\n",
    "- matrix.item(i,j) to access (i,j) element of matrix object\n",
    "- np.allclose(matrix1, matrix2)"
   ]
  },
  {
   "cell_type": "code",
   "execution_count": 9,
   "id": "484d288b",
   "metadata": {},
   "outputs": [
    {
     "name": "stdout",
     "output_type": "stream",
     "text": [
      "Kraus operator M0(t=0):\n",
      " [[0.70710678 0.        ]\n",
      " [0.         0.70710678]] \n",
      "\n",
      "Hermitian component S:\n",
      " [[0.70710678 0.        ]\n",
      " [0.         0.70710678]] \n",
      "\n",
      "Anti-Hermitian component A:\n",
      " [[0. 0.]\n",
      " [0. 0.]] \n",
      "\n"
     ]
    }
   ],
   "source": [
    "# From eq. 13 of Schlimgen (2022) paper, at t = 0 \n",
    "M = np.matrix(np.sqrt(0.5)*np.array([[1, 0],[0, 1]]))\n",
    "print(\"Kraus operator M0(t=0):\\n\", M ,\"\\n\")\n",
    "\n",
    "# Compute Hermitian and anti-Hermitian parts\n",
    "S = 0.5*(M + M.getH())   # conjugate transpose\n",
    "A = 0.5*(M - M.getH())\n",
    "print(\"Hermitian component S:\\n\", S, \"\\n\")\n",
    "print(\"Anti-Hermitian component A:\\n\", A, \"\\n\")"
   ]
  },
  {
   "cell_type": "code",
   "execution_count": 10,
   "id": "891e1189",
   "metadata": {},
   "outputs": [
    {
     "name": "stdout",
     "output_type": "stream",
     "text": [
      "Sm:\n",
      " [[7.07106781e-05+1.j 0.00000000e+00+1.j]\n",
      " [0.00000000e+00+1.j 7.07106781e-05+1.j]]\n",
      "Sp:\n",
      " [[-7.07106781e-05+1.j -0.00000000e+00+1.j]\n",
      " [-0.00000000e+00+1.j -7.07106781e-05+1.j]]\n",
      "Am:\n",
      " [[1. 1.]\n",
      " [1. 1.]]\n",
      "Ap:\n",
      " [[1. 1.]\n",
      " [1. 1.]]\n"
     ]
    }
   ],
   "source": [
    "# Compute eq. 10 of Schmlingen (2022 paper)\n",
    "epsilon = 0.0001   \n",
    "Sm = 1j*np.exp(-1j*epsilon*S)     \n",
    "Sp = (-Sm).getH()\n",
    "Am = np.exp(-epsilon*A)\n",
    "Ap = Am.getH()\n",
    "\n",
    "print(\"Sm:\\n\", Sm )\n",
    "print(\"Sp:\\n\", Sp)\n",
    "print(\"Am:\\n\", Am)\n",
    "print(\"Ap:\\n\", Ap)"
   ]
  },
  {
   "cell_type": "code",
   "execution_count": 15,
   "id": "8b6ff496",
   "metadata": {},
   "outputs": [
    {
     "name": "stdout",
     "output_type": "stream",
     "text": [
      "Propagator U:\n",
      " [[ 7.e-05+1.j  0.e+00+1.j  0.e+00+0.j  0.e+00+0.j  0.e+00+0.j  0.e+00+0.j\n",
      "   0.e+00+0.j  0.e+00+0.j]\n",
      " [ 0.e+00+1.j  7.e-05+1.j  0.e+00+0.j  0.e+00+0.j  0.e+00+0.j  0.e+00+0.j\n",
      "   0.e+00+0.j  0.e+00+0.j]\n",
      " [ 0.e+00+0.j  0.e+00+0.j  7.e-05-1.j  0.e+00-1.j  0.e+00+0.j  0.e+00+0.j\n",
      "   0.e+00+0.j  0.e+00+0.j]\n",
      " [ 0.e+00+0.j  0.e+00+0.j  0.e+00-1.j  7.e-05-1.j  0.e+00+0.j  0.e+00+0.j\n",
      "   0.e+00+0.j  0.e+00+0.j]\n",
      " [ 0.e+00+0.j  0.e+00+0.j  0.e+00+0.j  0.e+00+0.j -1.e+00+0.j -1.e+00+0.j\n",
      "   0.e+00+0.j  0.e+00+0.j]\n",
      " [ 0.e+00+0.j  0.e+00+0.j  0.e+00+0.j  0.e+00+0.j -1.e+00+0.j -1.e+00+0.j\n",
      "   0.e+00+0.j  0.e+00+0.j]\n",
      " [ 0.e+00+0.j  0.e+00+0.j  0.e+00+0.j  0.e+00+0.j  0.e+00+0.j  0.e+00+0.j\n",
      "   1.e+00+0.j  1.e+00+0.j]\n",
      " [ 0.e+00+0.j  0.e+00+0.j  0.e+00+0.j  0.e+00+0.j  0.e+00+0.j  0.e+00+0.j\n",
      "   1.e+00+0.j  1.e+00+0.j]]\n"
     ]
    }
   ],
   "source": [
    "dim_M = len(M)   # 2\n",
    "U = np.zeros((4*dim_M,4*dim_M),dtype = 'complex_')   # enable complex values\n",
    "\n",
    "for i in range(dim_M):\n",
    "    for j in range(dim_M):\n",
    "        U[i][j] = Sm.item(i,j)\n",
    "        U[i+dim_M][j+dim_M] = -Sp.item(i,j)\n",
    "        U[i+2*dim_M][j+2*dim_M] = -Am.item(i,j)\n",
    "        U[i+3*dim_M][j+3*dim_M] = Ap.item(i,j)\n",
    "        \n",
    "U = np.matrix(U)       # cast to matrix \n",
    "print(\"Propagator U:\\n\", np.round(U,5))"
   ]
  },
  {
   "cell_type": "code",
   "execution_count": 16,
   "id": "99e0600e",
   "metadata": {},
   "outputs": [
    {
     "name": "stdout",
     "output_type": "stream",
     "text": [
      "[[2.-3.58885134e-21j 2.+0.00000000e+00j 0.+0.00000000e+00j\n",
      "  0.+0.00000000e+00j 0.+0.00000000e+00j 0.+0.00000000e+00j\n",
      "  0.+0.00000000e+00j 0.+0.00000000e+00j]\n",
      " [2.+0.00000000e+00j 2.-3.58885134e-21j 0.+0.00000000e+00j\n",
      "  0.+0.00000000e+00j 0.+0.00000000e+00j 0.+0.00000000e+00j\n",
      "  0.+0.00000000e+00j 0.+0.00000000e+00j]\n",
      " [0.+0.00000000e+00j 0.+0.00000000e+00j 2.+3.58885134e-21j\n",
      "  2.+0.00000000e+00j 0.+0.00000000e+00j 0.+0.00000000e+00j\n",
      "  0.+0.00000000e+00j 0.+0.00000000e+00j]\n",
      " [0.+0.00000000e+00j 0.+0.00000000e+00j 2.+0.00000000e+00j\n",
      "  2.+3.58885134e-21j 0.+0.00000000e+00j 0.+0.00000000e+00j\n",
      "  0.+0.00000000e+00j 0.+0.00000000e+00j]\n",
      " [0.+0.00000000e+00j 0.+0.00000000e+00j 0.+0.00000000e+00j\n",
      "  0.+0.00000000e+00j 2.+0.00000000e+00j 2.+0.00000000e+00j\n",
      "  0.+0.00000000e+00j 0.+0.00000000e+00j]\n",
      " [0.+0.00000000e+00j 0.+0.00000000e+00j 0.+0.00000000e+00j\n",
      "  0.+0.00000000e+00j 2.+0.00000000e+00j 2.+0.00000000e+00j\n",
      "  0.+0.00000000e+00j 0.+0.00000000e+00j]\n",
      " [0.+0.00000000e+00j 0.+0.00000000e+00j 0.+0.00000000e+00j\n",
      "  0.+0.00000000e+00j 0.+0.00000000e+00j 0.+0.00000000e+00j\n",
      "  2.+0.00000000e+00j 2.+0.00000000e+00j]\n",
      " [0.+0.00000000e+00j 0.+0.00000000e+00j 0.+0.00000000e+00j\n",
      "  0.+0.00000000e+00j 0.+0.00000000e+00j 0.+0.00000000e+00j\n",
      "  2.+0.00000000e+00j 2.+0.00000000e+00j]]\n"
     ]
    },
    {
     "data": {
      "text/plain": [
       "False"
      ]
     },
     "execution_count": 16,
     "metadata": {},
     "output_type": "execute_result"
    }
   ],
   "source": [
    "I = np.identity(8)    # identity matrix\n",
    "\n",
    "U_dg = U.getH()    # compute conjugate transpose\n",
    "#print(U_dg)\n",
    "print(U @ U_dg)\n",
    "\n",
    "np.allclose(I, U@U_dg)"
   ]
  },
  {
   "cell_type": "markdown",
   "id": "468a1af9",
   "metadata": {},
   "source": [
    "### To do: fix unitary U? The current U U_dagger product looks like: \n",
    "\n",
    "$U = \n",
    "\\begin{pmatrix}\n",
    "2 & 2 & 0 & 0 & 0 & 0 & 0 & 0\\\\\n",
    "2 & 2 & 0 & 0 & 0 & 0 & 0 & 0\\\\\n",
    "0 & 0 & 2 & 2 & 0 & 0 & 0 & 0\\\\\n",
    "0 & 0 & 2 & 2 & 0 & 0 & 0 & 0\\\\\n",
    "0 & 0 & 0 & 0 & 2 & 2 & 0 & 0\\\\\n",
    "0 & 0 & 0 & 0 & 2 & 2 & 0 & 0\\\\\n",
    "0 & 0 & 0 & 0 & 0 & 0 & 2 & 2\\\\\n",
    "0 & 0 & 0 & 0 & 0 & 0 & 2 & 2\\\\\n",
    "\\end{pmatrix}\n",
    "$\n",
    "\n",
    "instead of an 8x8 identity matrix. "
   ]
  },
  {
   "cell_type": "markdown",
   "id": "bab3e945",
   "metadata": {},
   "source": [
    "#### Example code"
   ]
  },
  {
   "cell_type": "code",
   "execution_count": 3,
   "id": "6b3d593a",
   "metadata": {},
   "outputs": [],
   "source": [
    "# Use Operator class in qiskit.quantum_info to represent arbitrary matrix operators\n",
    "# Unitary operator can be added to quantum circuit simulation; here CNOT and iSWAP gate example\n",
    "\n",
    "# CNOT matrix operator with qubit-0 as control and qubit-1 as target\n",
    "cx_op = qi.Operator([[1, 0, 0, 0],\n",
    "                     [0, 0, 0, 1],\n",
    "                     [0, 0, 1, 0],\n",
    "                     [0, 1, 0, 0]])\n",
    "\n",
    "# iSWAP matrix operator\n",
    "iswap_op = qi.Operator([[1, 0, 0, 0],\n",
    "                        [0, 0, 1j, 0],\n",
    "                        [0, 1j, 0, 0],\n",
    "                        [0, 0, 0, 1]])"
   ]
  },
  {
   "cell_type": "code",
   "execution_count": 4,
   "id": "e5f10fcb",
   "metadata": {},
   "outputs": [
    {
     "name": "stdout",
     "output_type": "stream",
     "text": [
      "Example of a CNOT gate decomposed using single-qubit and iSWAP gates\n"
     ]
    }
   ],
   "source": [
    "# CNOT in terms of iSWAP and single-qubit gates\n",
    "cx_circ = QuantumCircuit(2, name='cx<iSWAP>')\n",
    "\n",
    "# Add gates\n",
    "cx_circ.sdg(1)    \n",
    "cx_circ.h(1)\n",
    "cx_circ.sdg(0)\n",
    "cx_circ.unitary(iswap_op, [0, 1], label='iswap')\n",
    "cx_circ.sdg(0)\n",
    "cx_circ.h(0)\n",
    "cx_circ.sdg(0)\n",
    "cx_circ.unitary(iswap_op, [0, 1], label='iswap')\n",
    "cx_circ.s(1)      # S gate is pi/2 rotation around Z axis\n",
    "\n",
    "cx_circ.draw(\"mpl\")    # alternatively, print(cx_circ)\n",
    "print(\"Example of a CNOT gate decomposed using single-qubit and iSWAP gates\")"
   ]
  },
  {
   "cell_type": "code",
   "execution_count": 5,
   "id": "66fce90b",
   "metadata": {},
   "outputs": [
    {
     "name": "stdout",
     "output_type": "stream",
     "text": [
      "Operator([[1.+0.j, 0.+0.j, 0.+0.j, 0.+0.j],\n",
      "          [0.+0.j, 0.+0.j, 0.+0.j, 1.+0.j],\n",
      "          [0.+0.j, 0.+0.j, 1.+0.j, 0.+0.j],\n",
      "          [0.+0.j, 1.+0.j, 0.+0.j, 0.+0.j]],\n",
      "         input_dims=(2, 2), output_dims=(2, 2))\n",
      "Average Gate Fidelity: F = 1.000000\n"
     ]
    }
   ],
   "source": [
    "# Simulate the unitary for the circuit using Operator:\n",
    "unitary = qi.Operator(cx_circ)\n",
    "print(unitary)\n",
    "f_ave = qi.average_gate_fidelity(cx_op, unitary)\n",
    "print(\"Average Gate Fidelity: F = {:f}\".format(f_ave))"
   ]
  },
  {
   "cell_type": "code",
   "execution_count": 6,
   "id": "7549594d",
   "metadata": {},
   "outputs": [
    {
     "data": {
      "text/plain": [
       "True"
      ]
     },
     "execution_count": 6,
     "metadata": {},
     "output_type": "execute_result"
    }
   ],
   "source": [
    "# AerSimulator can run arbitrary unitary operators specified by \"unitary\" in basis gates.\n",
    "'unitary' in AerSimulator().configuration().basis_gates"
   ]
  },
  {
   "cell_type": "code",
   "execution_count": 7,
   "id": "3e726e37",
   "metadata": {},
   "outputs": [
    {
     "data": {
      "image/png": "[encoded data removed]",
      "text/plain": [
       "<Figure size 621.739x284.278 with 1 Axes>"
      ]
     },
     "execution_count": 7,
     "metadata": {},
     "output_type": "execute_result"
    }
   ],
   "source": [
    "# Bell state circuit where iSWAPS should be inserted at barrier locations\n",
    "bell_circ = QuantumCircuit(2, 2, name='bell')\n",
    "bell_circ.h(0)\n",
    "bell_circ.append(cx_circ, [0, 1])\n",
    "bell_circ.measure([0,1], [0,1])\n",
    "\n",
    "bell_circ.draw(\"mpl\")    #print(bell_circ)"
   ]
  },
  {
   "cell_type": "code",
   "execution_count": 8,
   "id": "c8474b91",
   "metadata": {},
   "outputs": [
    {
     "name": "stderr",
     "output_type": "stream",
     "text": [
      "/Users/eugene/opt/miniconda3/envs/quantum/lib/python3.10/site-packages/numpy/linalg/linalg.py:2154: RuntimeWarning: divide by zero encountered in det\n",
      "  r = _umath_linalg.det(a, signature=signature)\n",
      "/Users/eugene/opt/miniconda3/envs/quantum/lib/python3.10/site-packages/numpy/linalg/linalg.py:2154: RuntimeWarning: invalid value encountered in det\n",
      "  r = _umath_linalg.det(a, signature=signature)\n"
     ]
    },
    {
     "data": {
      "image/png": "[encoded data removed]",
      "text/plain": [
       "<Figure size 700x500 with 1 Axes>"
      ]
     },
     "execution_count": 8,
     "metadata": {},
     "output_type": "execute_result"
    }
   ],
   "source": [
    "# Create ideal simulator backend and transpile circuit\n",
    "sim_ideal = AerSimulator()\n",
    "tbell_circ = transpile(bell_circ, sim_ideal)\n",
    "\n",
    "ideal_result = sim_ideal.run(tbell_circ).result()\n",
    "ideal_counts = ideal_result.get_counts(0)\n",
    "plot_histogram(ideal_counts,\n",
    "               title='Ideal output for iSWAP bell-state preparation')"
   ]
  },
  {
   "cell_type": "code",
   "execution_count": 13,
   "id": "9d47031b",
   "metadata": {},
   "outputs": [
    {
     "data": {
      "text/html": [
       "<h3>Version Information</h3><table><tr><th>Qiskit Software</th><th>Version</th></tr><tr><td><code>qiskit-terra</code></td><td>0.21.2</td></tr><tr><td><code>qiskit-aer</code></td><td>0.11.0</td></tr><tr><td><code>qiskit-ibmq-provider</code></td><td>0.19.2</td></tr><tr><td><code>qiskit</code></td><td>0.38.0</td></tr><tr><th>System information</th></tr><tr><td>Python version</td><td>3.10.4</td></tr><tr><td>Python compiler</td><td>Clang 12.0.0 </td></tr><tr><td>Python build</td><td>main, Mar 31 2022 03:37:37</td></tr><tr><td>OS</td><td>Darwin</td></tr><tr><td>CPUs</td><td>8</td></tr><tr><td>Memory (Gb)</td><td>8.0</td></tr><tr><td colspan='2'>Sun Jan 22 03:05:20 2023 EST</td></tr></table>"
      ],
      "text/plain": [
       "<IPython.core.display.HTML object>"
      ]
     },
     "metadata": {},
     "output_type": "display_data"
    }
   ],
   "source": [
    "# end of code\n",
    "import qiskit.tools.jupyter\n",
    "%qiskit_version_table"
   ]
  },
  {
   "cell_type": "code",
   "execution_count": null,
   "id": "ee00851c",
   "metadata": {},
   "outputs": [],
   "source": []
  },
  {
   "cell_type": "code",
   "execution_count": null,
   "id": "b7a93fb7",
   "metadata": {},
   "outputs": [],
   "source": []
  }
 ],
 "metadata": {
  "kernelspec": {
   "display_name": "Python 3 (ipykernel)",
   "language": "python",
   "name": "python3"
  },
  "language_info": {
   "codemirror_mode": {
    "name": "ipython",
    "version": 3
   },
   "file_extension": ".py",
   "mimetype": "text/x-python",
   "name": "python",
   "nbconvert_exporter": "python",
   "pygments_lexer": "ipython3",
   "version": "3.10.4"
  }
 },
 "nbformat": 4,
 "nbformat_minor": 5
}
