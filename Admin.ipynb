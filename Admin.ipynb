{
 "cells": [
  {
   "cell_type": "code",
   "execution_count": 7,
   "id": "570105e3",
   "metadata": {},
   "outputs": [
    {
     "name": "stdout",
     "output_type": "stream",
     "text": [
      "       ┌───┐     ┌─┐   \n",
      "q16_0: ┤ H ├──■──┤M├───\n",
      "       └───┘┌─┴─┐└╥┘┌─┐\n",
      "q16_1: ─────┤ X ├─╫─┤M├\n",
      "            └───┘ ║ └╥┘\n",
      " c4: 2/═══════════╩══╩═\n",
      "                  0  1 \n"
     ]
    },
    {
     "ename": "IBMQAccountCredentialsNotFound",
     "evalue": "'No IBM Quantum Experience credentials found.'",
     "output_type": "error",
     "traceback": [
      "\u001b[0;31m---------------------------------------------------------------------------\u001b[0m",
      "\u001b[0;31mIBMQAccountCredentialsNotFound\u001b[0m            Traceback (most recent call last)",
      "Cell \u001b[0;32mIn [7], line 24\u001b[0m\n\u001b[1;32m     20\u001b[0m results \u001b[38;5;241m=\u001b[39m execute(circuit,simulator)\u001b[38;5;241m.\u001b[39mresult()\u001b[38;5;241m.\u001b[39mget_counts()\n\u001b[1;32m     21\u001b[0m plot_histogram(results)\n\u001b[0;32m---> 24\u001b[0m IBMQ\u001b[38;5;241m.\u001b[39mload_account() \u001b[38;5;66;03m#È necessário ter uma conta no Qiskit da IBM\u001b[39;00m\n\u001b[1;32m     25\u001b[0m provider \u001b[38;5;241m=\u001b[39m IBMQ\u001b[38;5;241m.\u001b[39mget_provider(hub \u001b[38;5;241m=\u001b[39m \u001b[38;5;124m'\u001b[39m\u001b[38;5;124mibm-q\u001b[39m\u001b[38;5;124m'\u001b[39m)\n\u001b[1;32m     27\u001b[0m device \u001b[38;5;241m=\u001b[39m provider\u001b[38;5;241m.\u001b[39mget_backend(\u001b[38;5;124m'\u001b[39m\u001b[38;5;124mibmqx2\u001b[39m\u001b[38;5;124m'\u001b[39m)\n",
      "File \u001b[0;32m~/opt/miniconda3/envs/quantum/lib/python3.10/site-packages/qiskit/providers/ibmq/ibmqfactory.py:167\u001b[0m, in \u001b[0;36mIBMQFactory.load_account\u001b[0;34m(self)\u001b[0m\n\u001b[1;32m    164\u001b[0m credentials_list \u001b[38;5;241m=\u001b[39m \u001b[38;5;28mlist\u001b[39m(stored_credentials\u001b[38;5;241m.\u001b[39mvalues())\n\u001b[1;32m    166\u001b[0m \u001b[38;5;28;01mif\u001b[39;00m \u001b[38;5;129;01mnot\u001b[39;00m credentials_list:\n\u001b[0;32m--> 167\u001b[0m     \u001b[38;5;28;01mraise\u001b[39;00m IBMQAccountCredentialsNotFound(\n\u001b[1;32m    168\u001b[0m         \u001b[38;5;124m'\u001b[39m\u001b[38;5;124mNo IBM Quantum Experience credentials found.\u001b[39m\u001b[38;5;124m'\u001b[39m)\n\u001b[1;32m    170\u001b[0m \u001b[38;5;28;01mif\u001b[39;00m \u001b[38;5;28mlen\u001b[39m(credentials_list) \u001b[38;5;241m>\u001b[39m \u001b[38;5;241m1\u001b[39m:\n\u001b[1;32m    171\u001b[0m     \u001b[38;5;28;01mraise\u001b[39;00m IBMQAccountMultipleCredentialsFound(\n\u001b[1;32m    172\u001b[0m         \u001b[38;5;124m'\u001b[39m\u001b[38;5;124mMultiple IBM Quantum Experience credentials found. \u001b[39m\u001b[38;5;124m'\u001b[39m \u001b[38;5;241m+\u001b[39m UPDATE_ACCOUNT_TEXT)\n",
      "\u001b[0;31mIBMQAccountCredentialsNotFound\u001b[0m: 'No IBM Quantum Experience credentials found.'"
     ]
    }
   ],
   "source": [
    "from qiskit import *\n",
    "from qiskit.visualization import plot_histogram\n",
    "\n",
    "qr = QuantumRegister(2)\n",
    "cr = ClassicalRegister(2)\n",
    "\n",
    "circuit = QuantumCircuit(qr,cr)\n",
    "\n",
    "circuit.h(0)\n",
    "circuit.cx(0,1)\n",
    "\n",
    "\n",
    "circuit.measure(qr,cr)\n",
    "\n",
    "print(circuit)\n",
    "\n",
    "\n",
    "simulator = Aer.get_backend('qasm_simulator')\n",
    "\n",
    "results = execute(circuit,simulator).result().get_counts()\n",
    "plot_histogram(results)\n",
    "\n",
    "\n",
    "IBMQ.load_account() #È necessário ter uma conta no Qiskit da IBM\n",
    "provider = IBMQ.get_provider(hub = 'ibm-q')\n",
    "\n",
    "device = provider.get_backend('ibmqx2')\n",
    "#Ou ibmq_16_melbourne, ibmqx2   \n",
    "\n",
    "job = execute(circuit,backend = device,shots = 1024)\n",
    "print(job.job_id())\n",
    "\n",
    "from qiskit.tools.monitor import job_monitor\n",
    "\n",
    "job_monitor(job)\n",
    "device_result = job.result()\n",
    "\n",
    "plot_histogram(device_result.get_counts(circuit))\n"
   ]
  },
  {
   "cell_type": "code",
   "execution_count": null,
   "id": "15c84227",
   "metadata": {},
   "outputs": [],
   "source": []
  }
 ],
 "metadata": {
  "kernelspec": {
   "display_name": "Python 3 (ipykernel)",
   "language": "python",
   "name": "python3"
  },
  "language_info": {
   "codemirror_mode": {
    "name": "ipython",
    "version": 3
   },
   "file_extension": ".py",
   "mimetype": "text/x-python",
   "name": "python",
   "nbconvert_exporter": "python",
   "pygments_lexer": "ipython3",
   "version": "3.10.4"
  }
 },
 "nbformat": 4,
 "nbformat_minor": 5
}
