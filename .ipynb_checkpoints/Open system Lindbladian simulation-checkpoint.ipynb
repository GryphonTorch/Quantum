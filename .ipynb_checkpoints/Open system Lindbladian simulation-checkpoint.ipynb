{
 "cells": [
  {
   "cell_type": "markdown",
   "id": "0fdf443d",
   "metadata": {},
   "source": [
    "#### Custom unitary gate approach (14 April)  \n",
    "\n",
    "Overleaf documentation: https://www.overleaf.com/project/636d711f81310b0cd8b37e65 \n",
    "\n",
    "New Lindbladian from Kvam paper, with some code adapted from Gunnar's classical open systems simulation\n",
    "\n",
    "TODO: check that num_states is 4 here? two qubits\n",
    "\n",
    "This notebook supports the original Lindbladian (Schlimgen group) by changing the make_Lind function; make_Lind_qc is for the cognitive science application model from the Kvam et al. Nature paper. \n",
    "\n",
    "#### QuTip tutorials\n",
    "\n",
    "https://qutip.org/qutip-tutorials/ \n",
    "\n",
    "https://qutip.org/docs/latest/guide/dynamics/dynamics-master.html \n"
   ]
  },
  {
   "cell_type": "markdown",
   "id": "ad7c8ed2",
   "metadata": {},
   "source": [
    "#### Code overview\n",
    "1) Compute Lindbladian operator L\n",
    "\n",
    "2) Function definitions (measurement, build_propagator, check_unitary, make_circuit)\n",
    "\n",
    "3) Time evolution calculation"
   ]
  },
  {
   "cell_type": "code",
   "execution_count": 17,
   "id": "fa11184c",
   "metadata": {},
   "outputs": [],
   "source": [
    "from qiskit import transpile, QuantumCircuit\n",
    "import qiskit.quantum_info as qi\n",
    "import numpy as np\n",
    "import matplotlib.pyplot as plt\n",
    "from qiskit_aer import AerSimulator\n",
    "from qiskit_aer.noise import NoiseModel, amplitude_damping_error\n",
    "from qiskit.tools.visualization import plot_histogram\n",
    "from scipy.linalg import expm"
   ]
  },
  {
   "cell_type": "markdown",
   "id": "8ce63d10",
   "metadata": {},
   "source": [
    "#### 1. Simulation constants"
   ]
  },
  {
   "cell_type": "code",
   "execution_count": 18,
   "id": "fd64b7cc",
   "metadata": {},
   "outputs": [],
   "source": [
    "#Lindblad equation from 2022 paper (eq. 3)\n",
    "delta = 1.0   # Default 1, 1, 1\n",
    "gamma = 1.0  \n",
    "Omega = 1.0"
   ]
  },
  {
   "cell_type": "markdown",
   "id": "358c7088",
   "metadata": {},
   "source": [
    "#### 2. Function definitions\n",
    "\n",
    "##### 2.1 Lindbladian generation from Kvam et al. Nature paper\n",
    "$$ \\mathcal{L}(\\rho) = \\sum_{i,j} \\gamma_{ij} \\left( L_{ij} \\bullet \\rho \\bullet L_{ij}^\\dagger - \\frac{1}{2} \\{ {L_{ij}^\\dagger \\bullet L_{ij}, \\rho}  \\} \\right) $$\n",
    "\n",
    "$$ \\rho = \\sum_j P_j \\bullet (\\psi_j \\bullet \\psi_j^\\dagger) $$\n",
    "\n",
    "where $ \\gamma_{ij} $ is the parameter that determines the rate of change in the probability of transitioning to preference level i from level j. \n",
    "$ p_{j} $ is the probability of being in that pure quantum state. \n",
    "$ \\gamma_{ij} $ and $ p_{j} $ need to be specified for the Lindbladian calculation. \n",
    "\n",
    "##### Function to create the Generator matrix (from Gunnar's code)"
   ]
  },
  {
   "cell_type": "code",
   "execution_count": 19,
   "id": "bc4f84ac",
   "metadata": {},
   "outputs": [],
   "source": [
    "def make_gamma(drift, diffusion, num_states):    \n",
    "    # Convert drift and diffusion to alpha and beta values \n",
    "    alpha = diffusion - drift\n",
    "    beta = diffusion + drift\n",
    "    \n",
    "    # Elements on the diagonal\n",
    "    G_diag = -2*diffusion*np.ones(num_states)\n",
    "    \n",
    "    # Element on the upper-diagonal\n",
    "    G_upper_diag = alpha*np.ones(num_states-1)\n",
    "    \n",
    "    # Elements on the lower-diagonal\n",
    "    G_lower_diag = beta*np.ones(num_states-1)\n",
    "    \n",
    "    # Combine them to create the full matrix\n",
    "    G = np.diag(G_diag) + np.diag(G_upper_diag, 1) + np.diag(G_lower_diag, -1)\n",
    "    \n",
    "    # Redefine the two 'corner' elements since the columns of the Generator must sum to 0\n",
    "    G[0, 0] = -1*beta\n",
    "    G[num_states-1, num_states-1] = -1*alpha\n",
    "    return G\n",
    "\n",
    "# (Classical?) simulation parameters\n",
    "# num_states = 4 # changed here\n",
    "# etaM = 25/175    \n",
    "# driftM/diffusion i.e. drift rate to diffusion rate ratio in Markov component\n",
    "\n",
    "# Generator matrix creation is called once at:\n",
    "# G = make_gamma(etaM, 1, num_states)\n",
    "\n",
    "# gamma_ij values obtained by iterating over num_states and getting G element\n",
    "# for i in range(num_states):\n",
    "#    for k in range(num_states):\n",
    "#        gamma = G[i,k]\n",
    "#        print(\"Gamma: \", gamma)"
   ]
  },
  {
   "cell_type": "code",
   "execution_count": 20,
   "id": "c5e262ef",
   "metadata": {},
   "outputs": [],
   "source": [
    "def make_rho(Pj, size):\n",
    "    \"\"\" Makes density matrix rho given input Pj array; psi_j is the pure \n",
    "    quantum state of n x 1 column matrix\n",
    "    Outputs a matrix\"\"\"\n",
    "    assert (size == len(Pj))   # equals n\n",
    "    result = np.zeros((size, size))  # density matrix output\n",
    "    for idx in range(size):\n",
    "        result[idx][idx] = Pj[idx]\n",
    "    return result\n",
    "\n",
    "def make_Lij(i,j, size): \n",
    "    \"\"\" Lij is n x n matrix with a one in i,j and zero otherwise \"\"\"\n",
    "    ans = np.zeros((size, size), dtype=int)\n",
    "    ans[i,j] = 1\n",
    "    return ans\n",
    "\n",
    "def make_Lind_qc(gamma, Pj, size):\n",
    "    \"\"\"\n",
    "    Calculates Lindbladian superoperator based on Kvam et al. Temporal Oscillations paper\n",
    "    Quantum cognition model\n",
    "    \"\"\"\n",
    "    rho = make_rho(Pj, size)\n",
    "    Lind = np.zeros((4,4))\n",
    "    for i in range(size):\n",
    "        for j in range(size):\n",
    "            # todo: math here\n",
    "            Lij = np.asmatrix(make_Lij(i,j,size))\n",
    "            Lij_dagger = Lij.getH()\n",
    "            # for the conjugate transpose\n",
    "            \n",
    "            bracket = Lij @ rho @ Lij_dagger -1/2*((Lij_dagger @ Lij) @ rho + rho @ (Lij_dagger @ Lij))\n",
    "            Lind += gamma[i][j] * bracket\n",
    "    return Lind"
   ]
  },
  {
   "cell_type": "code",
   "execution_count": 21,
   "id": "46424470",
   "metadata": {},
   "outputs": [],
   "source": [
    "# debugging testing\n",
    "\n",
    "# uniform Pj probability distribution\n",
    "# Pj = []\n",
    "#for i in range(num_states):\n",
    "#    Pj.append(1/num_states)   \n",
    "    \n",
    "# Pj can also be normal distribution e.g. [0.15, 0.35, 0.35, 0.15]\n",
    "# Pj = [0.1, 0.4, 0.4, 0.1]\n",
    "# print(\"Pj array: \", Pj)\n",
    "\n",
    "# Lind_qc = make_Lind_qc(G, Pj, len(Pj))\n",
    "# print(\"Lind_qc: \", Lind_qc)\n"
   ]
  },
  {
   "cell_type": "markdown",
   "id": "3fe99c08",
   "metadata": {},
   "source": [
    "##### 2.2 Lindbladian generation from Schlimgen et al. papers\n",
    "\n",
    "TODO: Check is blackboard I term used to represent the identity matrix or ones(2,2)? (square matrix of all 1's)"
   ]
  },
  {
   "cell_type": "code",
   "execution_count": 45,
   "id": "da86053d",
   "metadata": {},
   "outputs": [],
   "source": [
    "def make_Lind(delta, gamma, Omega):\n",
    "    \"\"\"\n",
    "    Calculates Lindbladian superoperator based on chosen parameters\n",
    "    \"\"\"\n",
    "    sigma_z = np.matrix(([1,0],[0,-1]))\n",
    "    sigma_x = np.matrix(([0,1],[1,0]))\n",
    "    sigma_ = np.matrix(([0,0],[1,0]))      # changed\n",
    "    \n",
    "    # Hamiltonian\n",
    "    Ham = -delta/2*sigma_z - Omega/2*sigma_x\n",
    "    Ham_trans = Ham.transpose()\n",
    "    Ck = np.sqrt(gamma)*sigma_\n",
    "\n",
    "    # Taking the I as identity instead of ones matrix\n",
    "    term1 = np.kron(-1j*np.identity(2), Ham)\n",
    "    term2 = np.kron(1j*Ham_trans, np.identity(2))\n",
    "    term3 = np.kron(np.conjugate(Ck), Ck)\n",
    "    term4 = -np.kron(1/2*np.identity(2), Ck.getH() @ Ck)\n",
    "    term5 = -1/2*np.kron(Ck.transpose() @ np.conjugate(Ck), np.identity(2))\n",
    "    \n",
    "    return term1 + term2 + term3 + term4 + term5"
   ]
  },
  {
   "cell_type": "code",
   "execution_count": 44,
   "id": "c8a248d5",
   "metadata": {},
   "outputs": [
    {
     "name": "stdout",
     "output_type": "stream",
     "text": [
      "[[1 2]\n",
      " [3 4]]\n",
      "[[ 1  2  2  4]\n",
      " [ 3  4  6  8]\n",
      " [ 3  6  4  8]\n",
      " [ 9 12 12 16]]\n"
     ]
    }
   ],
   "source": [
    "Ck = np.matrix(([1,2],[3,4]))\n",
    "print(Ck)\n",
    "print(np.kron(np.conjugate(Ck), Ck))"
   ]
  },
  {
   "cell_type": "code",
   "execution_count": 23,
   "id": "41634c1d",
   "metadata": {},
   "outputs": [],
   "source": [
    "def measurement(Lind, time=0):\n",
    "    \"\"\"\n",
    "    Main function to make circuit and measure\n",
    "    M in master equation obtained from matrix exponentiation\n",
    "    Output: counts dictionary e.g. {'0000': 1024}\n",
    "    \"\"\"\n",
    "    M = np.matrix(expm(Lind*time)) \n",
    "    U = build_propagator(M)\n",
    "    U_operator = check_unitary(U)\n",
    "    #print(\"Debug: U_operator: \\n\", U_operator)\n",
    "    result = make_circuit(U_operator)\n",
    "    return result"
   ]
  },
  {
   "cell_type": "code",
   "execution_count": 24,
   "id": "abf3f5e1",
   "metadata": {},
   "outputs": [],
   "source": [
    "def build_propagator(M, epsilon=0.0001):\n",
    "    \"\"\"\n",
    "    Function to built operator matrix U, based on input M\n",
    "    See Schlimgen (2021) paper for details eq.13\n",
    "    Matrix exponentiation using scipy, type cast back to matrix for getH complex conjugation\n",
    "    \"\"\"\n",
    "    # Compute Hermitian (S) and anti-Hermitian (A) matrices\n",
    "    S = 0.5*(M + M.getH())   # conjugate transpose .getH, Hermitian\n",
    "    A = 0.5*(M - M.getH())\n",
    "    \n",
    "    # Compute eq. 10 of Schmlingen (2022 paper)\n",
    "    # Matrix exponential function from scipy\n",
    "    # Reference: https://docs.scipy.org/doc/scipy/reference/generated/scipy.linalg.expm.html \n",
    "    Sm = np.matrix(1j*expm(-1j*epsilon*S))     \n",
    "    Sp = (-Sm).getH()\n",
    "    Am = np.matrix(expm(-epsilon*A))\n",
    "    Ap = Am.getH()\n",
    "    \n",
    "    # Populate U matrix\n",
    "    dim_M = len(M)   # 2\n",
    "    U = np.zeros((4*dim_M,4*dim_M),dtype = 'complex_')   # enable complex values\n",
    "\n",
    "    for i in range(dim_M):\n",
    "        for j in range(dim_M):\n",
    "            U[i][j] = Sm.item(i,j)\n",
    "            U[i+dim_M][j+dim_M] = -Sp.item(i,j)\n",
    "            U[i+2*dim_M][j+2*dim_M] = -Am.item(i,j)\n",
    "            U[i+3*dim_M][j+3*dim_M] = Ap.item(i,j)\n",
    "    \n",
    "    #print(\"Propagator U:\\n\", np.round(U,5))   \n",
    "    return np.matrix(U)       # cast to matrix "
   ]
  },
  {
   "cell_type": "code",
   "execution_count": 25,
   "id": "8b6ff496",
   "metadata": {},
   "outputs": [],
   "source": [
    "def check_unitary(U):\n",
    "    \"\"\"\n",
    "    Checker function if matrix is unitary using np.allclose\n",
    "    Returns U_operator or None \n",
    "    \"\"\"\n",
    "    U_dg = U.getH()    # compute conjugate transpose\n",
    "    I = np.identity(len(U_dg))    \n",
    "    if (np.allclose(I, U@U_dg)):\n",
    "        #print(\"Unitary propagator obtained as U_operator.\")\n",
    "        return qi.Operator(U)  # make Qiskit operator\n",
    "    else:\n",
    "        print(\"Error - U is not unitary.\")\n",
    "        return None"
   ]
  },
  {
   "cell_type": "code",
   "execution_count": 26,
   "id": "ef318bfc",
   "metadata": {},
   "outputs": [],
   "source": [
    "def make_circuit(U_operator, qubits_count=4):\n",
    "    \"\"\"\n",
    "    Generates circuit and obtains measurement, using\n",
    "    custom gate approach\n",
    "    Example: https://qiskit.org/documentation/tutorials/simulators/4_custom_gate_noise.html \n",
    "    Ideal simulator backend and transpile circuit\n",
    "    \"\"\"\n",
    "    circuit = QuantumCircuit(qubits_count,qubits_count)   # 3 qubits, U is 8x8 matrix\n",
    "    circuit.h(0)\n",
    "    circuit.h(1)\n",
    "    circuit.x(2)\n",
    "    circuit.unitary(U_operator, [0, 1, 2, 3], label='U')\n",
    "    circuit.h(0)\n",
    "    circuit.h(1)\n",
    "    circuit.x(2)\n",
    "    circuit.measure([0,1,2,3], [0,1,2,3])\n",
    "    \n",
    "    #circuit.draw(\"mpl\")    \n",
    "    tcircuit = transpile(circuit, AerSimulator())\n",
    "    results = AerSimulator().run(tcircuit).result()    \n",
    "    return results.get_counts(0)"
   ]
  },
  {
   "cell_type": "markdown",
   "id": "6c2d4b57",
   "metadata": {},
   "source": [
    "#### 3. Time evolution"
   ]
  },
  {
   "cell_type": "code",
   "execution_count": 27,
   "id": "6156746b",
   "metadata": {},
   "outputs": [
    {
     "name": "stdout",
     "output_type": "stream",
     "text": [
      "Generated Lindbladian superoperator is:\n",
      " [[-1. +0.j   0. +0.5j  0. -0.5j  0. +0.j ]\n",
      " [ 0. +0.5j -0.5-1.j   0. +0.j   0. -0.5j]\n",
      " [ 0. -0.5j  0. +0.j  -0.5+1.j   0. +0.5j]\n",
      " [ 1. +0.j   0. -0.5j  0. +0.5j  0. +0.j ]]\n"
     ]
    }
   ],
   "source": [
    "count = 1\n",
    "results = []\n",
    "counts = []\n",
    "MAX_TURNS = 800\n",
    "TIMESTEP = 0.1\n",
    "MAXSHOTS = 1024  # quantum circuit\n",
    "\n",
    "Lind = make_Lind(delta, gamma, Omega)\n",
    "#Lind = make_Lind_qc(G, Pj, len(Pj))\n",
    "print(\"Generated Lindbladian superoperator is:\\n\", Lind)\n",
    "\n",
    "while count < MAX_TURNS:\n",
    "    \"\"\"\n",
    "    Do simulation as per paper\n",
    "    \"\"\"\n",
    "    t = 1*count*TIMESTEP\n",
    "    count += 1\n",
    "    result = measurement(Lind, t)\n",
    "    #print(\"Count:\",count,\"   \", result)\n",
    "    results.append(result)\n",
    "    counts.append(count)"
   ]
  },
  {
   "cell_type": "code",
   "execution_count": 36,
   "id": "b44b9720",
   "metadata": {},
   "outputs": [
    {
     "name": "stdout",
     "output_type": "stream",
     "text": [
      "Simulation parameters: delta: 1.0    gamma: 1.0    Omega 1.0\n"
     ]
    },
    {
     "data": {
      "image/png": "[encoded data removed]",
      "text/plain": [
       "<Figure size 640x480 with 1 Axes>"
      ]
     },
     "metadata": {},
     "output_type": "display_data"
    }
   ],
   "source": [
    "\"\"\"\n",
    "CHANGED THE RESULT ALLOCATION 14/4\n",
    "Add in the 00, 01 header cases\n",
    "\"\"\"\n",
    "\n",
    "end_0s = []\n",
    "end_1s = []\n",
    "\n",
    "for i in range(MAX_TURNS - 1):\n",
    "    num_0s = 0\n",
    "    num_1s = 0\n",
    "    if results[i].get(\"0000\") != None:    # in case they don't appear\n",
    "        num_0s += results[i].get(\"0000\")/MAXSHOTS\n",
    "    if results[i].get(\"0010\") != None:\n",
    "        num_1s += results[i].get(\"0010\")/MAXSHOTS\n",
    "    if results[i].get(\"0001\") != None:\n",
    "        num_0s += results[i].get(\"0001\")/MAXSHOTS\n",
    "    if results[i].get(\"0011\") != None:\n",
    "        num_1s += results[i].get(\"0011\")/MAXSHOTS\n",
    "    end_0s.append(num_0s)\n",
    "    end_1s.append(num_1s)\n",
    "\n",
    "print(\"Simulation parameters: delta:\",delta,\"   gamma:\",gamma,\"   Omega\",Omega)\n",
    "    \n",
    "plt.plot(end_0s, label=\"End 0s\")\n",
    "plt.plot(end_1s, label=\"End 1s\")\n",
    "plt.xlabel(\"Turn\")\n",
    "plt.ylabel(\"Population\")\n",
    "plt.legend()\n",
    "plt.show()\n",
    "\n",
    "#plot_histogram(counts, title='Output')"
   ]
  },
  {
   "cell_type": "markdown",
   "id": "17d480af",
   "metadata": {},
   "source": [
    "### Math notes\n",
    "\n",
    "Any operator M can be decomposed into a Hermitian and anti-Hermitian component.\n",
    "\n",
    "Definitions - Hermitian: $H^\\dagger = H$ ; anti-Hermitian: $H^\\dagger = -H$\n",
    "\n",
    "Unitary matrix: $U^\\dagger U = I$\n",
    "\n",
    "$A = \\frac{A + A^\\dagger}{2} + \\frac{A - A^\\dagger}{2} = B + C$\n",
    "\n",
    "Hermitian:\n",
    "$B^\\dagger = \\frac{A^\\dagger + A}{2} = B$\n",
    "\n",
    "Anti-Hermitian:\n",
    "$C^\\dagger = \\frac{A^\\dagger - A}{2} = -C$\n",
    "\n",
    "Propagator $U = \n",
    "\\begin{pmatrix}\n",
    "S_m & 0 & 0 & 0\\\\\n",
    "0 & -S_p & 0 & 0\\\\\n",
    "0 & 0 & -A_m & 0\\\\\n",
    "0 & 0 & 0 & A_p\n",
    "\\end{pmatrix}\n",
    "$\n",
    "\n",
    "#### Useful built-in functions\n",
    "- matrix.transpose()\n",
    "- matrix.getH() for conjugate transpose\n",
    "- np.identity(N)\n",
    "- matrix.item(i,j) to access (i,j) element of matrix object\n",
    "- np.allclose(matrix1, matrix2)"
   ]
  },
  {
   "attachments": {
    "image.png": {
     "image/png": "[encoded data removed]"
    }
   },
   "cell_type": "markdown",
   "id": "0f3c48aa",
   "metadata": {},
   "source": [
    "### Sample circuit and measurement\n",
    "![image.png](attachment:image.png)"
   ]
  },
  {
   "cell_type": "markdown",
   "id": "54bd5ca2",
   "metadata": {},
   "source": [
    "#### 4. Analytical time evolution (by equation)\n",
    "\n",
    "Implement eq. 4 of \"Quantum simulation of the Lindblad equation...\"\n",
    "\n",
    "$ |\\rho(t)> = e^{\\mathcal{L}t} |\\rho(0)> $\n",
    "\n",
    "\\begin{equation} |\\rho> = \\begin{pmatrix} \\rho_{00} \\\\ \\rho_{10} \\\\ … \\\\ \\rho_{nn} \\end{pmatrix} \\end{equation}\n",
    "\n",
    "Diagonal elements of the density matrix represent the probabilities of finding the system in each of its possible states.\n"
   ]
  },
  {
   "cell_type": "code",
   "execution_count": 61,
   "id": "701cdfb6",
   "metadata": {},
   "outputs": [
    {
     "name": "stdout",
     "output_type": "stream",
     "text": [
      "==== ANALYTICAL DENSITY MATRIX PROPAGATION ====\n",
      "Initial rho state vector: \n",
      " [[ 0.14285714-4.69669008e-16j]\n",
      " [-0.28571429-1.42857143e-01j]\n",
      " [-0.28571429+1.42857143e-01j]\n",
      " [ 0.85714286-2.66127437e-15j]]\n",
      "Lindladian generated is: \n",
      " [[-1. +0.j   0. +0.5j  0. -0.5j  0. +0.j ]\n",
      " [ 0. +0.5j -0.5-1.j   0. +0.j   0. -0.5j]\n",
      " [ 0. -0.5j  0. +0.j  -0.5+1.j   0. +0.5j]\n",
      " [ 1. +0.j   0. -0.5j  0. +0.5j  0. +0.j ]]\n"
     ]
    },
    {
     "data": {
      "image/png": "[encoded data removed]",
      "text/plain": [
       "<Figure size 640x480 with 1 Axes>"
      ]
     },
     "metadata": {},
     "output_type": "display_data"
    }
   ],
   "source": [
    "# eq. 14 from other 2021 paper; diagonal elements must add to one\n",
    "rho_col_0 = np.matrix([[0], [0.25], [0.25], [1.0]])\n",
    "print(\"==== ANALYTICAL DENSITY MATRIX PROPAGATION ====\")\n",
    "print(\"Initial rho state vector: \\n\", rho_col)\n",
    "\n",
    "# Make a new Lind to ensure correct function; (delta, gamma, Omega)\n",
    "print(\"Lindladian generated is: \\n\", Lind)\n",
    "\n",
    "time_array    = []\n",
    "ground_array  = []\n",
    "excited_array = []\n",
    "rho_col = rho_col_0\n",
    "for n in range(100):\n",
    "    time = n*1E-12\n",
    "    rho_col = np.matrix(expm(Lind*time))*rho_col_0\n",
    "    time_array.append(n)\n",
    "    \n",
    "    # remove imaginary numerical part\n",
    "    ground_array.append(float(np.abs(rho_col[0])))\n",
    "    excited_array.append(float(np.abs(rho_col[3])))\n",
    "\n",
    "plt.plot(time_array, excited_array, 'orange', label='Excited')\n",
    "plt.plot(time_array, ground_array, 'blue', label='Ground')\n",
    "plt.xlabel(\"Time (1E-12s)\")\n",
    "plt.ylabel(\"Population\")\n",
    "plt.ylim(0,1.1)\n",
    "plt.legend()\n",
    "plt.title(\"Analytical with delta=\"+str(delta)+\" and Omega=\"+str(Omega))\n",
    "plt.show()"
   ]
  },
  {
   "cell_type": "code",
   "execution_count": 54,
   "id": "82b063ff",
   "metadata": {},
   "outputs": [
    {
     "name": "stdout",
     "output_type": "stream",
     "text": [
      "[1.0, 1.0, 1.0, 1.0, 1.0, 1.0, 1.0, 1.0, 1.0, 1.0, 1.0, 1.0, 1.0, 1.0, 1.0, 1.0, 1.0, 1.0, 1.0, 1.0, 1.0, 1.0, 1.0, 1.0, 1.0, 1.0, 1.0, 1.0, 1.0, 1.0, 1.0, 1.0, 1.0, 1.0, 1.0, 1.0, 1.0, 1.0, 1.0, 1.0, 1.0, 1.0, 1.0, 1.0, 1.0, 1.0, 1.0, 1.0, 1.0, 1.0, 1.0, 1.0, 1.0, 1.0, 1.0, 1.0, 1.0, 1.0, 1.0, 1.0, 1.0, 1.0, 1.0, 1.0, 1.0, 1.0, 1.0, 1.0, 1.0, 1.0, 1.0, 1.0, 1.0, 1.0, 1.0, 1.0, 1.0, 1.0, 1.0, 1.0, 1.0, 1.0, 1.0, 1.0, 1.0, 1.0, 1.0, 1.0, 1.0, 1.0, 1.0, 1.0, 1.0, 1.0, 1.0, 1.0, 1.0, 1.0, 1.0, 1.0]\n"
     ]
    }
   ],
   "source": [
    "print(excited_array)"
   ]
  },
  {
   "cell_type": "code",
   "execution_count": 40,
   "id": "9d47031b",
   "metadata": {},
   "outputs": [
    {
     "data": {
      "text/html": [
       "<h3>Version Information</h3><table><tr><th>Qiskit Software</th><th>Version</th></tr><tr><td><code>qiskit-terra</code></td><td>0.23.3</td></tr><tr><td><code>qiskit-aer</code></td><td>0.11.0</td></tr><tr><td><code>qiskit-ibmq-provider</code></td><td>0.19.2</td></tr><tr><td><code>qiskit</code></td><td>0.38.0</td></tr><tr><th>System information</th></tr><tr><td>Python version</td><td>3.10.4</td></tr><tr><td>Python compiler</td><td>Clang 12.0.0 </td></tr><tr><td>Python build</td><td>main, Mar 31 2022 03:37:37</td></tr><tr><td>OS</td><td>Darwin</td></tr><tr><td>CPUs</td><td>8</td></tr><tr><td>Memory (Gb)</td><td>8.0</td></tr><tr><td colspan='2'>Thu Apr 27 22:33:48 2023 EDT</td></tr></table>"
      ],
      "text/plain": [
       "<IPython.core.display.HTML object>"
      ]
     },
     "metadata": {},
     "output_type": "display_data"
    }
   ],
   "source": [
    "# end of code\n",
    "import qiskit.tools.jupyter\n",
    "%qiskit_version_table"
   ]
  },
  {
   "cell_type": "code",
   "execution_count": 31,
   "id": "2c9b836a",
   "metadata": {},
   "outputs": [],
   "source": [
    "# debugging support\n"
   ]
  },
  {
   "cell_type": "code",
   "execution_count": null,
   "id": "45e7e248",
   "metadata": {},
   "outputs": [],
   "source": []
  }
 ],
 "metadata": {
  "kernelspec": {
   "display_name": "Python 3 (ipykernel)",
   "language": "python",
   "name": "python3"
  },
  "language_info": {
   "codemirror_mode": {
    "name": "ipython",
    "version": 3
   },
   "file_extension": ".py",
   "mimetype": "text/x-python",
   "name": "python",
   "nbconvert_exporter": "python",
   "pygments_lexer": "ipython3",
   "version": "3.10.4"
  }
 },
 "nbformat": 4,
 "nbformat_minor": 5
}
