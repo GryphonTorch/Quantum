{
 "cells": [
  {
   "cell_type": "code",
   "execution_count": 1,
   "id": "a1cd0e20-8657-4c4f-a8d4-a124444374f1",
   "metadata": {},
   "outputs": [],
   "source": [
    "# Import necessary libraries\n",
    "import numpy as np\n",
    "from scipy.linalg import expm\n",
    "from scipy.stats import norm\n",
    "import matplotlib.pyplot as plt\n"
   ]
  },
  {
   "cell_type": "markdown",
   "id": "33695b49-1636-48ae-8fbb-9d64dcee0a2a",
   "metadata": {},
   "source": [
    "## Open system model formulation with 5 free parameters\n",
    "\n",
    "In Busemeyer et al. (2020) and Kvam et al. (2021), the open system model is defined as\n",
    "$$\n",
    "\\frac{d}{dt} \\rho(t) = -i \\big(1 - w\\big) \\big[H(v_Q, \\sigma_Q), \\rho(t)\\big] + w\\sum_{ij} \\gamma_{ij}(v_M, \\sigma_M) \\Big(L_{ij} \\rho(t) L_{ij}^{\\dagger} - 0.5 \\left\\{L_{ij}^{\\dagger} L_{ij}, \\rho(t) \\right\\}  \\Big)\n",
    "$$\n",
    "where there free parameters are:\n",
    "1. $w$ (weighting parameter)\n",
    "2. $v_Q$ (drift rate parameter in the quantum component)\n",
    "3. $\\sigma_Q$ (diffusion rate parameter in the quantum component)\n",
    "4. $v_M$ (drift rate parameter in the Markov component)\n",
    "5. $\\sigma_M$ (diffusion rate parameter)\n",
    "\n",
    "The pair of parameters $(v_Q, \\sigma_Q)$ are used to define the Hamiltonian matrix as\n",
    "$$\n",
    "H(v_Q, \\sigma_Q) = \n",
    "\\begin{bmatrix}\n",
    "\\mu_1 & \\sigma_Q & 0 & \\ldots & 0 \\\\\n",
    "\\sigma_Q & \\mu_2 & \\ddots & \\ddots & \\vdots \\\\\n",
    "0 & \\sigma_Q & \\ddots & \\sigma_Q & 0 \\\\\n",
    "\\vdots & \\ddots & \\ddots & \\mu_{N-1} & \\sigma_Q \\\\\n",
    "0 & \\cdots & 0 & \\sigma_Q & \\mu_{N}\n",
    "\\end{bmatrix}\n",
    "\\qquad\n",
    "\\begin{align}\n",
    "\\mu_j & = j \\cdot v_Q \\\\\n",
    "N & \\equiv \\text{number of basis states}\n",
    "\\end{align}\n",
    "$$\n",
    "\n",
    "The pair of parameters $(v_M, \\sigma_M)$ are used to define the Generator matrix as\n",
    "$$\n",
    "G(v_M, \\sigma_M) = \n",
    "\\begin{bmatrix}\n",
    "-\\beta & \\alpha & 0 & \\ldots & 0 \\\\\n",
    "\\beta & -\\lambda & \\ddots & \\ddots & \\vdots \\\\\n",
    "0 & \\beta & \\ddots & \\alpha & 0 \\\\\n",
    "\\vdots & \\ddots & \\ddots & -\\lambda & \\alpha \\\\\n",
    "0 & \\cdots & 0 & \\beta & -\\alpha\n",
    "\\end{bmatrix}\n",
    "\\qquad\n",
    "\\begin{align}\n",
    "\\alpha & = \\sigma_M - v_M \\\\\n",
    "\\beta & = \\sigma_M + v_M \\\\\n",
    "\\lambda & = -2\\sigma_M\n",
    "\\end{align}\n",
    "$$\n",
    "\n",
    "In the model, ***$\\gamma_{ij}(v_M, \\sigma_M)$ is defined as the element located in row $i$, column $j$ of the Generator matrix $G(v_M, \\sigma_M)$***. For example, $\\gamma_{21}(v_M, \\sigma_M) = \\beta$. \n",
    "\n",
    "$L_{ij}$ is simply a matrix of 0's, except for a 1 at the element located in row $i$, column $j$.\n",
    "\n",
    "Lastly, $\\rho(t)$ is the state of the system."
   ]
  },
  {
   "cell_type": "markdown",
   "id": "3ef2af33-5fd9-4270-a6de-b7ea7b7473e0",
   "metadata": {},
   "source": [
    "## Open system model formulation with 4 parameters\n",
    "\n",
    "While working with the open system model, I noticed that only 4 parameters are needed to define the model without loss of generality. The model itself looks very similar\n",
    "\n",
    "$$\n",
    "\\frac{d}{dt} \\rho(t) = \\delta \\bigg( -i \\big(1 - \\omega \\big) \\big[H(\\eta_Q, 1), \\rho(t)\\big] + \\omega \\sum_{ij} \\gamma_{ij}(\\eta_M, 1) \\bigg(L_{ij} \\rho(t) L_{ij}^{\\dagger} - 0.5 \\left\\{L_{ij}^{\\dagger} L_{ij}, \\rho(t) \\right\\}  \\Big) \\bigg)\n",
    "$$\n",
    "\n",
    "where there free parameters are:\n",
    "1. $\\omega$ (weighting parameter)\n",
    "2. $\\eta_Q$ (drift rate to diffusion rate ratio parameter in the quantum component)\n",
    "3. $\\eta_M$ (drift rate to diffusion rate ratio parameter in the Markov component)\n",
    "4. $\\delta$ (scaling parameter)\n",
    "\n",
    "I won't go through all the math, but in terms of the parameters from the 5-parameter model, these 4 free parameters can be defined as\n",
    "1. $\\omega = \\frac{w \\cdot \\sigma_M}{(1-w) \\cdot \\sigma_Q + w \\cdot \\sigma_M}$\n",
    "2. $\\eta_Q= \\frac{v_Q}{\\sigma_Q}$\n",
    "3. $\\eta_Q= \\frac{v_M}{\\sigma_M}$\n",
    "4. $\\delta = (1-w) \\cdot \\sigma_Q + w \\cdot \\sigma_M$"
   ]
  },
  {
   "cell_type": "markdown",
   "id": "5458099b-6f48-4168-851e-8593d18428f0",
   "metadata": {},
   "source": [
    "# Running the model\n",
    "\n",
    "For a few parameter values, I think it'd be best to go with the ones from Busemeyer et al. (2020) (https://www.mdpi.com/1099-4300/22/9/990). These values are for the 5-parameter model because the authors didn't realize that they only needed the 4 at the time. Those parameter values are:\n",
    "1. $w = 0.5$\n",
    "2. $v_Q = 37.4$\n",
    "3. $\\sigma_Q = 54.98$\n",
    "4. $v_M = 25$\n",
    "5. $\\sigma_M = 175$\n",
    "\n",
    "In the code below, I convert them over to the 4 parameters before simulating the model. "
   ]
  },
  {
   "cell_type": "code",
   "execution_count": 2,
   "id": "7a27fb11-c247-49d0-a8f8-62dc0bc2f60c",
   "metadata": {},
   "outputs": [],
   "source": [
    "# Parameters from Busemeyer et al. (2020) \n",
    "\n",
    "# Model parameters\n",
    "wgt_param = 0.5 # weighting parameter\n",
    "driftQ = 37.4 # drift rate for the quantum component\n",
    "diffusionQ = 54.98 # diffusion rate for the quantum component\n",
    "driftM = 25 # drift rate for the Markov component\n",
    "diffusionM = 175 # diffusion rate for the Markov component\n",
    "\n",
    "# Simulation parameters \n",
    "num_states = 21 # number of basis states for the random walk\n",
    "init_std = 5 # standard deviation of the initial state\n",
    "num_time_pts = 101 # number of time points\n",
    "min_time_pt = 0 # starting time point\n",
    "max_time_pt = 5 # final time point\n",
    "time_pts = np.linspace(min_time_pt, max_time_pt, num_time_pts)# actual time points"
   ]
  },
  {
   "cell_type": "code",
   "execution_count": 3,
   "id": "f2275f82-9e12-4852-b6ff-311b66089ca6",
   "metadata": {},
   "outputs": [],
   "source": [
    "# Define the model parameters for the 4-parameter version of the model in terms \n",
    "# of the parameters from the the 5-parameter version of the model\n",
    "etaQ = driftQ/diffusionQ # slope to diffusion rate ratio in quantum component\n",
    "etaM = driftM/diffusionM # drift rate to diffusion rate ratio in Markov component\n",
    "delta = (1-wgt_param)*diffusionQ + wgt_param*diffusionM # scaling parameter\n",
    "omega = wgt_param*diffusionM/delta # weighting parameter\n"
   ]
  },
  {
   "cell_type": "code",
   "execution_count": 4,
   "id": "44f3ef55-3290-4c89-8d27-87ddb1321bdc",
   "metadata": {},
   "outputs": [],
   "source": [
    "# Function to create the Hamiltonian\n",
    "def H_mat(slope, diffusion, num_states):\n",
    "    \n",
    "    # Elements on the diagonal\n",
    "    H_diag = slope*(np.arange(num_states)+1)\n",
    "    \n",
    "    # Elements on the off-diagonals (both upper and lower)\n",
    "    H_off_diag = diffusion*np.ones(num_states-1)\n",
    "    \n",
    "    # Combine them to create the full matrix\n",
    "    H = np.diag(H_diag) + np.diag(H_off_diag, 1) + np.diag(H_off_diag, -1)\n",
    "    return H\n",
    "\n",
    "\n",
    "# Function to create the Generator matrix\n",
    "def G_mat(drift, diffusion, num_states):\n",
    "    \n",
    "    # Convert drift and diffusion to alpha and beta values \n",
    "    alpha = diffusion - drift\n",
    "    beta = diffusion + drift\n",
    "    \n",
    "    # Elements on the diagonal\n",
    "    G_diag = -2*diffusion*np.ones(num_states)\n",
    "    \n",
    "    # Element on the upper-diagonal\n",
    "    G_upper_diag = alpha*np.ones(num_states-1)\n",
    "    \n",
    "    # Elements on the lower-diagonal\n",
    "    G_lower_diag = beta*np.ones(num_states-1)\n",
    "    \n",
    "    # Combine them to create the full matrix\n",
    "    G = np.diag(G_diag) + np.diag(G_upper_diag, 1) + np.diag(G_lower_diag, -1)\n",
    "    \n",
    "    # Redefine the two 'corner' elements since the columns of the Generator must sum to 0\n",
    "    G[0, 0] = -1*beta\n",
    "    G[num_states-1, num_states-1] = -1*alpha\n",
    "    return G"
   ]
  },
  {
   "cell_type": "markdown",
   "id": "1c61b055-2d84-4ef3-b53b-27857f3b7a8f",
   "metadata": {},
   "source": [
    "### Note\n",
    "\n",
    "When simulating the model, I need to vectorize the state of the system (the density matrix $\\rho$) and modify the open system model formulation such that it takes the form of a linear differential equation. \n",
    "\n",
    "I believe I needed to do this because, when I run the open system model, I am operating on probabilities. Meaning, the state of the system is just a bunch of probabilities. I don't think you'll need to do this when actually implementing the model with an actual quantum system, but I at least wanted to make a note of this in case you notice that some of the code below doesn't line-up with the open system model as described above. If you would like to learn more about how and why this is done in my case, see https://www.mdpi.com/1099-4300/22/9/990."
   ]
  },
  {
   "cell_type": "code",
   "execution_count": 5,
   "id": "8155de66-b5f1-4572-8227-94342f987cca",
   "metadata": {},
   "outputs": [],
   "source": [
    "# Function to create the Lindbladian operator\n",
    "def L_mat(t, omega, delta, H, G, num_states):\n",
    "    # Initialize an identity matrix\n",
    "    idn = np.eye(num_states)\n",
    "    \n",
    "    # Define the quantum component\n",
    "    Q_comp = np.kron(idn,H) - np.kron(H,idn)\n",
    "    \n",
    "    # Define the Markov component\n",
    "    M_comp = np.zeros((num_states**2, num_states**2))\n",
    "       \n",
    "    for i in range(num_states):\n",
    "        for k in range(num_states):\n",
    "            # Define gamma using the Generator matrix\n",
    "            gamma = G[i,k]\n",
    "            \n",
    "            # Create the Lindblad operator for this pair of indices\n",
    "            ik_mat = np.zeros((num_states, num_states))\n",
    "            ik_mat[i,k] = 1\n",
    "            ik_trans = np.transpose(ik_mat)\n",
    "            \n",
    "            # Compute the anticommutator\n",
    "            anti_comm = np.kron(idn, np.matmul(ik_trans,ik_mat)) + np.kron(np.matmul(ik_trans,ik_mat), idn)\n",
    "            \n",
    "            # Update the Markov component\n",
    "            M_comp += gamma*(np.kron(ik_mat, ik_mat) - 0.5*anti_comm)\n",
    "    \n",
    "    # Combine the two components with the weighting parameter \n",
    "    wgtd_mat = -1j*(1-omega)*Q_comp + omega*M_comp\n",
    "    \n",
    "    # Multiply the matrix by the scaling parameter delta and t, then exponentiate\n",
    "    L = expm(t*delta*wgtd_mat)\n",
    "    return L            "
   ]
  },
  {
   "cell_type": "code",
   "execution_count": 6,
   "id": "d9cab2ae-0a2e-493f-a710-4cda045a8802",
   "metadata": {},
   "outputs": [],
   "source": [
    "# Function to make the initial state\n",
    "def init_state(num_states, init_std):\n",
    "    # Create the initial state vector as a Gaussian distribution centered on the basis states\n",
    "    basis_states = np.arange(num_states)\n",
    "    init_state_vec = np.exp(-1*np.power((basis_states-np.mean(basis_states))/init_std, 2))\n",
    "    \n",
    "    # Normalize it such that the squared magnitude of the elements sums to 1\n",
    "    norm_state_vec = init_state_vec/np.sqrt(np.inner(init_state_vec, init_state_vec))\n",
    "    \n",
    "    # Create the density matrix by taking the outer product of the normalized state vector\n",
    "    rho = np.outer(norm_state_vec, norm_state_vec)\n",
    "    return rho"
   ]
  },
  {
   "cell_type": "code",
   "execution_count": 7,
   "id": "6b12ac12-14fd-4c42-ac17-7346bb42f82b",
   "metadata": {},
   "outputs": [
    {
     "name": "stderr",
     "output_type": "stream",
     "text": [
      "C:\\Users\\gunna\\Anaconda3\\lib\\site-packages\\ipykernel_launcher.py:30: ComplexWarning: Casting complex values to real discards the imaginary part\n"
     ]
    }
   ],
   "source": [
    "# Run the simulation\n",
    "\n",
    "# Define the initial state as a density matrix\n",
    "rho = init_state(num_states, init_std)\n",
    "\n",
    "# Vectorize the density matrix for computation\n",
    "rho_vec = rho.reshape(-1,1)\n",
    "\n",
    "# Create the Hamiltonian and Generator matrices\n",
    "H = H_mat(etaQ, 1, num_states)\n",
    "G = G_mat(etaM, 1, num_states)\n",
    "\n",
    "# Initialize a matrix to store the probabilities at each time point\n",
    "prob_dens = np.zeros((num_states, num_time_pts))\n",
    "\n",
    "# Run through each step in the random walk\n",
    "for idx, tt in enumerate(time_pts):\n",
    "    # Create the Lindbladian operator to update the state\n",
    "    L = L_mat(tt, omega, delta, H, G, num_states)\n",
    "    \n",
    "    # Apply the Lindbladian to map the state from t=0 to t=tt\n",
    "    rhot = L.dot(rho_vec)\n",
    "    \n",
    "    # Reshape the state back into the density matrix form\n",
    "    rhot_mat = rhot.reshape(num_states, num_states)\n",
    "    \n",
    "    # Extract the diagonal elements from the updated state, \n",
    "    # which correspond to the probabilities of the system \n",
    "    # being observed in each basis state, and store them\n",
    "    prob_dens[:,idx] = np.diag(rhot_mat)"
   ]
  },
  {
   "cell_type": "code",
   "execution_count": 8,
   "id": "4258d6ff-5003-4313-86c0-9bd5e6562d43",
   "metadata": {},
   "outputs": [
    {
     "data": {
      "image/png": "[encoded data removed]",
      "text/plain": [
       "<Figure size 432x360 with 1 Axes>"
      ]
     },
     "metadata": {
      "needs_background": "light"
     },
     "output_type": "display_data"
    }
   ],
   "source": [
    "# Have a look at the probability distribution at some arbitrary time point\n",
    "arbitrary_time_index = 12\n",
    "\n",
    "fig, ax = plt.subplots(1,1,figsize=(6,5))\n",
    "\n",
    "ax.plot(prob_dens[:,arbitrary_time_index], '-o')\n",
    "ax.set_xlim(0, num_states-1)\n",
    "\n",
    "ax.set_xlabel('Basis states')\n",
    "ax.set_ylabel('Probability')\n",
    "ax.set_title(f'Probability distribution over states at t = {round(time_pts[arbitrary_time_index],3)}')\n",
    "\n",
    "fig.tight_layout()\n",
    "plt.show()"
   ]
  },
  {
   "cell_type": "code",
   "execution_count": 10,
   "id": "0efea344-1d93-488a-b49b-6dbc822debbc",
   "metadata": {},
   "outputs": [
    {
     "data": {
      "image/png": "[encoded data removed]",
      "text/plain": [
       "<Figure size 576x360 with 1 Axes>"
      ]
     },
     "metadata": {
      "needs_background": "light"
     },
     "output_type": "display_data"
    }
   ],
   "source": [
    "# Plot the expected value of the probability distribution as a function of time\n",
    "basis_states = np.arange(num_states)\n",
    "prob_exp = [np.inner(basis_states, prob_dens[:,i]) for i in range(num_time_pts)]\n",
    "\n",
    "fig, ax = plt.subplots(1,1,figsize=(8,5))\n",
    "\n",
    "ax.plot(time_pts,prob_exp)\n",
    "ax.set_xlim(min_time_pt, max_time_pt)\n",
    "ax.set_ylim(0, num_states-1)\n",
    "\n",
    "ax.set_xlabel('Time')\n",
    "ax.set_ylabel('Basis state')\n",
    "ax.set_title('Expected state as a function of time')\n",
    "\n",
    "fig.tight_layout()\n",
    "\n",
    "plt.show()"
   ]
  },
  {
   "cell_type": "code",
   "execution_count": null,
   "id": "c5221739-7eaa-419e-8d4b-4b64aff572a9",
   "metadata": {},
   "outputs": [],
   "source": []
  }
 ],
 "metadata": {
  "kernelspec": {
   "display_name": "Python 3 (ipykernel)",
   "language": "python",
   "name": "python3"
  },
  "language_info": {
   "codemirror_mode": {
    "name": "ipython",
    "version": 3
   },
   "file_extension": ".py",
   "mimetype": "text/x-python",
   "name": "python",
   "nbconvert_exporter": "python",
   "pygments_lexer": "ipython3",
   "version": "3.10.4"
  }
 },
 "nbformat": 4,
 "nbformat_minor": 5
}
