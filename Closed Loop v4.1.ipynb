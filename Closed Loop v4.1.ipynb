{
 "cells": [
  {
   "cell_type": "markdown",
   "metadata": {},
   "source": [
    "# Higher energy states SSVQE with 4 qubits (Algorithm C)\n",
    "\n",
    "### Baseline recommendation: 12 entanglement layers, Maxiter = 3500, NUM_SHOTS = 3000, SPSA algorithm --> gives multipliers of (2.30, 4.19, 12.84) for first three energy states\n",
    "\n",
    "Based off v3.7 (baseline three and four qubits) with SPSA optimizer and Subspace VQE algorithm\n",
    "\n",
    "Four and three qubit expanded case with circuit from “Hardware-efficient variational quantum eigensolver for small molecules and quantum magnets” paper (2017). This implements entanglment between the qubit lines using RZX gates.\n",
    "\n",
    "The mathematics of the lattice and Fourier transform block are referenced from \"Quantum Computation and Visualization of Hamiltonians Using Discrete Quantum Mechanics and IBM Qiskit\" by Raffaele Miceli and Michael McGuigan (see PHYS 470 report for more details)\n",
    "\n",
    "\n",
    "## 1. Setup and constants"
   ]
  },
  {
   "cell_type": "code",
   "execution_count": null,
   "metadata": {},
   "outputs": [],
   "source": [
    "import numpy as np \n",
    "import scipy\n",
    "from scipy.optimize import minimize, BFGS\n",
    "import time\n",
    "from qiskit import QuantumCircuit, ClassicalRegister, QuantumRegister\n",
    "from qiskit.circuit import Gate\n",
    "from qiskit import Aer, transpile, assemble\n",
    "from qiskit.quantum_info.operators import Operator, Pauli    # for operator\n",
    "from qiskit.aqua.algorithms import NumPyEigensolver\n",
    "from qiskit import Aer, transpile, assemble      # to run quantum simulation\n",
    "backend = Aer.get_backend(\"qasm_simulator\")\n",
    "from qiskit.aqua.components.optimizers import COBYLA    # for optimization\n",
    "\n",
    "np.set_printoptions(precision=7)    # numpy print precision\n",
    "np.set_printoptions(suppress=True)  # suppress scientific notation\n",
    "\n",
    "# define constants\n",
    "QUBIT_COUNT = 3\n",
    "DEPTH = 3                     # depth of ansatz\n",
    "PARAM_COUNT = QUBIT_COUNT*(2*DEPTH+2)   \n",
    "NUM_SHOTS = 3000              # number of shots per quantum simulation\n",
    "ENERGY_STATES = 1             # which states to consider. Set 1 for ground, 2 for second .etc\n",
    "\n",
    "np.random.seed(1)\n",
    "wild_params = np.random.rand(PARAM_COUNT)\n",
    "#print(\"The starting random ansatz parameters are:\", wild_params)"
   ]
  },
  {
   "cell_type": "code",
   "execution_count": null,
   "metadata": {
    "scrolled": false
   },
   "outputs": [],
   "source": [
    "# Making Hamiltonian (from Miceli and McGuigan paper)\n",
    "n = 2**QUBIT_COUNT    # for code clarity, in matrix preparation\n",
    "lattice = []\n",
    "leftmost = (1-n)/2    # consider lattice 15 June\n",
    "Xpos = []     # Position matrix\n",
    "\n",
    "for i in range(n):\n",
    "    lattice.append(leftmost + i)\n",
    "    # for position matrix    \n",
    "    Xpos_row = []\n",
    "    for j in range(n):\n",
    "        Xpos_row.append(0)\n",
    "    Xpos_row[i] = (leftmost + i)*np.sqrt(2*np.pi/n)\n",
    "    Xpos.append(Xpos_row)\n",
    "    #print(\"Xpos_row is: \",Xpos_row)\n",
    "    \n",
    "print(\"lattice is: \", lattice)\n",
    "Xpos = np.array(Xpos)\n",
    "#print(\"Xpos is: \")\n",
    "#print(Xpos)"
   ]
  },
  {
   "cell_type": "code",
   "execution_count": null,
   "metadata": {},
   "outputs": [],
   "source": [
    "F = np.zeros([n,n], dtype=complex)  # zero matrix \n",
    "for j in range(n):\n",
    "    for k in range(n):\n",
    "        x = 1/np.sqrt(n)*np.e**(2*np.pi*(1j/n)*lattice[j]*lattice[k])\n",
    "        F[j][k] = x\n",
    "\n",
    "print(\"Check if Fourier operator calculated is unitary (F_dagger*F=I)\")\n",
    "F_dagger = np.transpose(np.conjugate(F))\n",
    "#print(F.dot(F_dagger))\n",
    "FourierOperator = Operator(F)\n",
    "\n",
    "P = (F_dagger.dot(Xpos.dot(F)))\n",
    "Hamiltonian = P.dot(P)/2  # flat potential well model here\n",
    "Hamiltonian2 = P.dot(P)/2 + Xpos.dot(Xpos)/2    # with harmonic\n",
    "\n",
    "#print(\"Momentum Operator (P) :\")\n",
    "#print(P) \n",
    "#print(\"Hamiltonian (H) :\")\n",
    "#print(Hamiltonian)\n",
    "\n",
    "H_dagger2 = np.transpose(np.conjugate(Hamiltonian2))\n",
    "#print(\"H2 dagger minus H2 (should be zero)\")    # check Hermitian by taking conjugate, H=H^t\n",
    "#print(H_dagger2-Hamiltonian2)"
   ]
  },
  {
   "cell_type": "code",
   "execution_count": null,
   "metadata": {},
   "outputs": [],
   "source": [
    "# get eigenvalue in numpy\n",
    "from numpy import linalg as LA\n",
    "print(\"The eigenvalues are: \", LA.eigvals(Hamiltonian))\n",
    "\n",
    "min_eigenvalue = np.real(min(LA.eigvals(Hamiltonian)))\n",
    "print(\"Lowest eigenvalue is \", min_eigenvalue)"
   ]
  },
  {
   "cell_type": "markdown",
   "metadata": {},
   "source": [
    "## 2. Variational ansatz functions (4*(number of qubits) parameters with single rotation gate method)  (updated for VQE)\n",
    "\n",
    "There is an entangling part and a rotation part for the qubits.\n",
    "\n",
    "### Ansatz circuit with orthogonal state input\n",
    "\n",
    "Set a Pauli X gate(s) at the start of ansatz for the input, to change from 000 only (000, 001, 010, 011, 100, 101, 110, 111) \n",
    "Define as function with another argument from params"
   ]
  },
  {
   "cell_type": "code",
   "execution_count": null,
   "metadata": {},
   "outputs": [],
   "source": [
    "def get_ansatz_pos(params, input_line):    \n",
    "    \"\"\"\n",
    "    Edited for subspace VQE \n",
    "    New ansatz builder function using DEPTH setting\n",
    "    params is a list, input_line is an integer (0 to 7)\n",
    "    This ansatz measures in the X basis (position space)\n",
    "    \"\"\"\n",
    "        \n",
    "    qr = QuantumRegister(QUBIT_COUNT)        \n",
    "    cr = ClassicalRegister(QUBIT_COUNT)\n",
    "    qc = QuantumCircuit(qr, cr)\n",
    "    \n",
    "    # input section\n",
    "    if input_line == 0:       # 000 in computational basis\n",
    "        pass\n",
    "    elif input_line == 1:     # 001\n",
    "        qc.rx(np.pi, qr[0])\n",
    "    elif input_line == 2:     # 010\n",
    "        qc.rx(np.pi, qr[1])\n",
    "    elif input_line == 3:     # 011\n",
    "        qc.rx(np.pi, qr[0])\n",
    "        qc.rx(np.pi, qr[1])\n",
    "    elif input_line == 4:     # 100\n",
    "        qc.rx(np.pi, qr[2])    \n",
    "    elif input_line == 5:     # 101\n",
    "        qc.rx(np.pi, qr[0])\n",
    "        qc.rx(np.pi, qr[2]) \n",
    "    elif input_line == 6:     # 110\n",
    "        qc.rx(np.pi, qr[1])\n",
    "        qc.rx(np.pi, qr[2]) \n",
    "    elif input_line == 7:     # 111\n",
    "        qc.rx(np.pi, qr[0])\n",
    "        qc.rx(np.pi, qr[1])\n",
    "        qc.rx(np.pi, qr[2])\n",
    "    else:\n",
    "        print(\"Error: input_line should be integer from 0 to 7\")\n",
    "        return\n",
    "    \n",
    "    qc.barrier()    # for clarity, after input setup\n",
    "    \n",
    "    for layer in range(DEPTH):    \n",
    "        # pre-entangling section\n",
    "        qc.ry(params[2*layer], qr[0])    \n",
    "        qc.rz(params[2*layer + 1], qr[0])\n",
    "        qc.ry(params[2*layer + 2*DEPTH + 2], qr[1])   # second wire\n",
    "        qc.rz(params[2*layer + 2*DEPTH + 3], qr[1])    \n",
    "        if QUBIT_COUNT >= 3:\n",
    "            qc.ry(params[2*layer + 4*DEPTH + 4], qr[2])   # third wire\n",
    "            qc.rz(params[2*layer + 4*DEPTH + 5], qr[2])    \n",
    "        if QUBIT_COUNT >= 4:\n",
    "            qc.ry(params[2*layer + 6*DEPTH + 6], qr[3])   # fourth wire     \n",
    "            qc.rz(params[2*layer + 6*DEPTH + 7], qr[3])\n",
    "\n",
    "        # entangling\n",
    "        qc.rzx(np.pi/2, qr[0], qr[1])\n",
    "        if QUBIT_COUNT >= 3:\n",
    "            qc.rzx(np.pi/2, qr[1], qr[2])\n",
    "        if QUBIT_COUNT >= 4:\n",
    "            qc.rzx(np.pi/2, qr[2], qr[3])\n",
    "        qc.barrier()    \n",
    "    \n",
    "    qc.ry(params[2*DEPTH], qr[0])   # first wire \n",
    "    qc.rz(params[2*DEPTH+1], qr[0])\n",
    "    qc.ry(params[4*DEPTH+2], qr[1])   # second wire\n",
    "    qc.rz(params[4*DEPTH+3], qr[1])\n",
    "    if QUBIT_COUNT >= 3:\n",
    "        qc.ry(params[6*DEPTH+4], qr[2])  # third wire\n",
    "        qc.rz(params[6*DEPTH+5], qr[2])    \n",
    "    if QUBIT_COUNT >= 4:\n",
    "        qc.ry(params[8*DEPTH+6], qr[3])   # fourth wire      \n",
    "        qc.rz(params[8*DEPTH+7], qr[3])\n",
    "    \n",
    "    for i in range(QUBIT_COUNT):\n",
    "        qc.measure(qr[i], cr[i])\n",
    "\n",
    "    return qc"
   ]
  },
  {
   "cell_type": "code",
   "execution_count": null,
   "metadata": {},
   "outputs": [],
   "source": [
    "print(\"===== New get_ansatz_pos circuit =====\")\n",
    "my_circuit = get_ansatz_pos(wild_params, 3)\n",
    "#my_circuit.draw(output='mpl')"
   ]
  },
  {
   "cell_type": "markdown",
   "metadata": {},
   "source": [
    "### New momentum Subspace Search VQE circuit for subspace search\n",
    "\n",
    "with the input state modification"
   ]
  },
  {
   "cell_type": "code",
   "execution_count": null,
   "metadata": {},
   "outputs": [],
   "source": [
    "def get_ansatz_ham(params, input_line):    \n",
    "    \"\"\"\n",
    "    Edited for subspace VQE \n",
    "    new ansatz builder function using four angles per qubit wire\n",
    "    params is a list, input_line is an integer (0 to 7)\n",
    "    This ansatz measures in the P basis (momentum space) with Fourier transform block\n",
    "    \"\"\"   \n",
    "\n",
    "    qr = QuantumRegister(QUBIT_COUNT)        \n",
    "    cr = ClassicalRegister(QUBIT_COUNT)\n",
    "    qc = QuantumCircuit(qr, cr)\n",
    "    \n",
    "    # input section\n",
    "    if input_line == 0:       # 000 in computational basis\n",
    "        pass\n",
    "    elif input_line == 1:     # 001\n",
    "        qc.rx(np.pi, qr[0])\n",
    "    elif input_line == 2:     # 010\n",
    "        qc.rx(np.pi, qr[1])\n",
    "    elif input_line == 3:     # 011\n",
    "        qc.rx(np.pi, qr[0])\n",
    "        qc.rx(np.pi, qr[1])\n",
    "    elif input_line == 4:     # 100\n",
    "        qc.rx(np.pi, qr[2])    \n",
    "    elif input_line == 5:     # 101\n",
    "        qc.rx(np.pi, qr[0])\n",
    "        qc.rx(np.pi, qr[2]) \n",
    "    elif input_line == 6:     # 110\n",
    "        qc.rx(np.pi, qr[1])\n",
    "        qc.rx(np.pi, qr[2]) \n",
    "    elif input_line == 7:     # 111\n",
    "        qc.rx(np.pi, qr[0])\n",
    "        qc.rx(np.pi, qr[1])\n",
    "        qc.rx(np.pi, qr[2])\n",
    "    else:\n",
    "        print(\"Error: input_line should be integer from 0 to 7\")\n",
    "        return\n",
    "    \n",
    "    qc.barrier()    # for clarity, after input setup\n",
    "    \n",
    "    for layer in range(DEPTH):    \n",
    "        # pre-entangling section\n",
    "        qc.ry(params[2*layer], qr[0])    \n",
    "        qc.rz(params[2*layer + 1], qr[0])\n",
    "        qc.ry(params[2*layer + 2*DEPTH + 2], qr[1])   # second wire\n",
    "        qc.rz(params[2*layer + 2*DEPTH + 3], qr[1])    \n",
    "        if QUBIT_COUNT >= 3:\n",
    "            qc.ry(params[2*layer + 4*DEPTH + 4], qr[2])   # third wire\n",
    "            qc.rz(params[2*layer + 4*DEPTH + 5], qr[2])    \n",
    "        if QUBIT_COUNT >= 4:\n",
    "            qc.ry(params[2*layer + 6*DEPTH + 6], qr[3])   # fourth wire     \n",
    "            qc.rz(params[2*layer + 6*DEPTH + 7], qr[3])\n",
    "\n",
    "        # entangling\n",
    "        qc.rzx(np.pi/2, qr[0], qr[1])\n",
    "        if QUBIT_COUNT >= 3:\n",
    "            qc.rzx(np.pi/2, qr[1], qr[2])\n",
    "        if QUBIT_COUNT >= 4:\n",
    "            qc.rzx(np.pi/2, qr[2], qr[3])\n",
    "        qc.barrier()    \n",
    "    \n",
    "    qc.ry(params[2*DEPTH], qr[0])   # first wire \n",
    "    qc.rz(params[2*DEPTH+1], qr[0])\n",
    "    qc.ry(params[4*DEPTH+2], qr[1])   # second wire\n",
    "    qc.rz(params[4*DEPTH+3], qr[1])\n",
    "    if QUBIT_COUNT >= 3:\n",
    "        qc.ry(params[6*DEPTH+4], qr[2])  # third wire\n",
    "        qc.rz(params[6*DEPTH+5], qr[2])    \n",
    "    if QUBIT_COUNT >= 4:\n",
    "        qc.ry(params[8*DEPTH+6], qr[3])   # fourth wire      \n",
    "        qc.rz(params[8*DEPTH+7], qr[3])\n",
    "\n",
    "    qubit_list = []\n",
    "    for i in range(QUBIT_COUNT):\n",
    "        qubit_list.append(i)\n",
    "    \n",
    "    qc.unitary(FourierOperator,qubit_list,label=\"Fourier\")\n",
    "    for j in range(QUBIT_COUNT):\n",
    "        qc.measure(qr[j], cr[j])\n",
    "\n",
    "    return qc"
   ]
  },
  {
   "cell_type": "code",
   "execution_count": null,
   "metadata": {},
   "outputs": [],
   "source": [
    "print(\"===== Sample get_ansatz_ham circuit for momentum space measurement =====\")\n",
    "my_circuit = get_ansatz_ham(wild_params, 3)\n",
    "my_circuit.draw(output='mpl')"
   ]
  },
  {
   "cell_type": "markdown",
   "metadata": {},
   "source": [
    "## 3. Support functions \n",
    "\n",
    "(own code) get_output function, get_probability_distribution_new, costArray.\n"
   ]
  },
  {
   "cell_type": "code",
   "execution_count": null,
   "metadata": {},
   "outputs": [],
   "source": [
    "# result automation\n",
    "allresults = []   # list\n",
    "def get_output(dec_number):\n",
    "    # decimal number is input, output as binary\n",
    "    # with zeros in front --> 1 becomes 001 when QUBIT_COUNT=3\n",
    "    # outputs binary as string\n",
    "    bin_number = str(bin(dec_number).replace(\"0b\", \"\"))\n",
    "    while len(bin_number) < QUBIT_COUNT:\n",
    "        bin_number = \"0\" + bin_number\n",
    "    return bin_number\n",
    "\n",
    "for count in range(n):    # where n is 2**QUBIT_COUNT\n",
    "    allresults.append(get_output(count))\n",
    "print(allresults)"
   ]
  },
  {
   "cell_type": "code",
   "execution_count": null,
   "metadata": {},
   "outputs": [],
   "source": [
    "def get_probability_distribution_new(counts):\n",
    "    # return array of probability    21st May\n",
    "    output_distr = []    # initialize empty array\n",
    "    for result in allresults:    # automate this list too\n",
    "        if counts.get(result) != None:\n",
    "            output_distr.append(counts.get(result)/NUM_SHOTS)\n",
    "        else:\n",
    "            output_distr.append(0)\n",
    "        #print(result)       \n",
    "    return output_distr"
   ]
  },
  {
   "cell_type": "code",
   "execution_count": null,
   "metadata": {},
   "outputs": [],
   "source": [
    "costArray = []    # to assign cost for each point on lattice\n",
    "for point in lattice:\n",
    "    costArray.append(2*np.pi/(2**QUBIT_COUNT)*point**2/2)\n",
    "print(costArray)   # pre-factor; not just lattice squared\n"
   ]
  },
  {
   "cell_type": "markdown",
   "metadata": {},
   "source": [
    "Finally, we create an instance of the COBYLA optimizer, and run the algorithm. Note that the output varies from run to run. Moreover, while close, the obtained distribution might not be exactly the same as the target distribution, however, increasing the number of shots taken will increase the accuracy of the output.\n",
    "\n",
    "COBYLA is different from the previous optimizer I used in v1.1. "
   ]
  },
  {
   "cell_type": "markdown",
   "metadata": {},
   "source": [
    "## 4. Cost functions to minimize \n",
    "\n",
    "Now we specify the objective function which takes as input a list of the variational form's parameters, and returns the cost associated with those parameters:\n",
    "\n",
    "### new cost function (L1)\n",
    "Step 2 of algorithm"
   ]
  },
  {
   "cell_type": "code",
   "execution_count": null,
   "metadata": {},
   "outputs": [],
   "source": [
    "def objective_function_weighted_SSQVE(params):\n",
    "    \"\"\"\n",
    "    New objective function for Subspace VQE search, computing sum across different line inputs\n",
    "    Includes a for loop over ENERGY_STATES constant\n",
    "    Prints and returns cost value for params\n",
    "    \"\"\"\n",
    "    cost = 0\n",
    "    #print(\"params is\", params)\n",
    "    for line in range(ENERGY_STATES):    \n",
    "        qc_Ham = get_ansatz_ham(params, line)\n",
    "        qc_Xpos = get_ansatz_pos(params, line)      # potential part\n",
    "        if line == 0: \n",
    "            weight = 3\n",
    "        elif line == 1: \n",
    "            weight = 2\n",
    "        elif line == 2:\n",
    "            weight = 1\n",
    "            \n",
    "        #weight = ENERGY_STATES - line   # ? line (0,1) have weights (2,1) see Nakanishi paper\n",
    "        \n",
    "        # === Hamiltonian part (P measurement) ===\n",
    "        t_qc_Ham = transpile(qc_Ham, backend)\n",
    "        qobj_Ham = assemble(t_qc_Ham, shots=NUM_SHOTS)     # run circuit NUM_SHOTS times\n",
    "        result_Ham = backend.run(qobj_Ham).result()\n",
    "        output_distr_Ham = get_probability_distribution_new(result_Ham.get_counts(qc_Ham))\n",
    "    \n",
    "        for i in range(n):\n",
    "            cost += (costArray[i]*output_distr_Ham[i])*weight   # see costArray def above\n",
    "    \n",
    "        # === Potential well part (X measurement) ===\n",
    "        t_qc_Xpos = transpile(qc_Xpos, backend)\n",
    "        qobj_Xpos = assemble(t_qc_Xpos, shots=NUM_SHOTS)     # run circuit NUM_SHOTS times\n",
    "        result_Xpos = backend.run(qobj_Xpos).result()\n",
    "        output_distr_Xpos = get_probability_distribution_new(result_Xpos.get_counts(qc_Xpos))\n",
    "    \n",
    "        if line == 0:  # ground state\n",
    "            cost += (output_distr_Xpos[0]*1 + output_distr_Xpos[n-1]*1)*weight \n",
    "        elif line == 1:\n",
    "            cost += (output_distr_Xpos[0]*4 + output_distr_Xpos[n-1]*4)*weight \n",
    "        elif line == 2:\n",
    "            cost += (output_distr_Xpos[0]*9 + output_distr_Xpos[n-1]*9)*weight \n",
    "        elif line == 3:\n",
    "            cost += (output_distr_Xpos[0]*16 + output_distr_Xpos[n-1]*16)*weight     \n",
    "        \n",
    "        #print(cost, \"   \", line)   # to plot\n",
    "    print(cost)\n",
    "    return cost"
   ]
  },
  {
   "cell_type": "markdown",
   "metadata": {},
   "source": [
    "## 5. Optimization\n",
    "\n",
    "https://docs.scipy.org/doc/scipy/reference/generated/scipy.optimize.minimize.html#scipy.optimize.minimize \n",
    "use scipy optimizer"
   ]
  },
  {
   "cell_type": "code",
   "execution_count": null,
   "metadata": {},
   "outputs": [],
   "source": [
    "#bnds = ((0, 6.2832),)*PARAM_COUNT   # angle bound between 0 and 2*pi\n",
    "bnds = []\n",
    "for item in range(PARAM_COUNT):\n",
    "    bnds.append((0,6.2832))\n"
   ]
  },
  {
   "cell_type": "code",
   "execution_count": null,
   "metadata": {
    "scrolled": true
   },
   "outputs": [],
   "source": [
    "from qiskit.aqua.components.optimizers import COBYLA, SPSA\n",
    "from qiskit.visualization import plot_histogram\n",
    "\n",
    "#optimizer = COBYLA(maxiter=2000, tol=.0001)\n",
    "#optimizer = SPSA(maxiter=4000, save_steps=1, last_avg=1, c0=0.62, c1=0.1, c2=0.602, c3=0.101, c4=0, skip_calibration=False)\n",
    "optimizer = SPSA(maxiter=4000, save_steps=1, last_avg=1, c0=0.62, c1=0.1, c2=0.602, c3=0.101, c4=0, skip_calibration=False)\n",
    "\n",
    "start_time = time.time()\n",
    "\n",
    "# Optimize according to Hamiltonian expectation value \n",
    "ret = optimizer.optimize(num_vars=PARAM_COUNT, objective_function=objective_function_weighted_SSQVE, \\\n",
    "                         initial_point=wild_params, variable_bounds=bnds)\n",
    "\n",
    "#print(\"Lowest eigenvalue is: \", min_eigenvalue)\n",
    "print(\"--- %s seconds ---\" % round((time.time() - start_time),1))\n",
    "gate_params = ret[0]   "
   ]
  },
  {
   "cell_type": "code",
   "execution_count": null,
   "metadata": {},
   "outputs": [],
   "source": [
    "# BFGS implementation\n",
    "#sol = minimize(objective_function_weighted_SSQVE, wild_params, method='BFGS', jac=None, options={'disp': True})\n",
    "#gate_params = ret.x\n"
   ]
  },
  {
   "cell_type": "markdown",
   "metadata": {},
   "source": [
    "## 6. Results\n",
    "\n",
    "### 6.1 Momentum space"
   ]
  },
  {
   "cell_type": "code",
   "execution_count": null,
   "metadata": {},
   "outputs": [],
   "source": [
    "def get_energy(params, level):\n",
    "    \"\"\"\n",
    "    Helper function to display momentum space probability distribution\n",
    "    Prints energy level as computed from optimized ansatz params \n",
    "    level refers to the input, mutually orthogonal standard computational basis\n",
    "    state using X gate(s) as required. \n",
    "    If level requested is beyond the ENERGY_STATES considered, returns error message\n",
    "    \"\"\"\n",
    "    if level >= ENERGY_STATES:\n",
    "        # this wasn't considered in weighting\n",
    "        print(\"Error: Energy level requested is too high, check ENERGY_STATES.\")\n",
    "        return\n",
    "    \n",
    "    # quantum circuit calculation\n",
    "    qc_Mom = get_ansatz_ham(params, level)   # with Fourier block at the end\n",
    "    t_qc_Mom = transpile(qc_Mom, backend)\n",
    "    qobj_Mom = assemble(t_qc_Mom, shots=NUM_SHOTS)   \n",
    "    counts_Mom = backend.run(qobj_Mom).result().get_counts(qc_Mom)\n",
    "    output_distr_Mom = get_probability_distribution_new(counts_Mom)\n",
    "\n",
    "    this_energy = 0\n",
    "    for k in range(2**QUBIT_COUNT):\n",
    "        # compute cost function in momentum space\n",
    "        this_energy += costArray[k]*output_distr_Mom[k]\n",
    "    multiple = np.round(this_energy/min_eigenvalue, 3)\n",
    "    \n",
    "    print(\"The\", level, \"level energy is\", this_energy, \"multiple of\", multiple)        \n",
    "    #plot_histogram(counts_Mom, color='orange', title=\"Momentum measure\")\n",
    "    return this_energy\n"
   ]
  },
  {
   "cell_type": "code",
   "execution_count": null,
   "metadata": {},
   "outputs": [],
   "source": [
    "# display energies computed\n",
    "print(\"The minimum eigenvalue is\", min_eigenvalue)\n",
    "get_energy(gate_params, 0)\n",
    "get_energy(gate_params, 1)\n",
    "get_energy(gate_params, 2)\n",
    "get_energy(gate_params, 3)"
   ]
  },
  {
   "cell_type": "markdown",
   "metadata": {},
   "source": [
    "### Visual check of ground state calculations"
   ]
  },
  {
   "cell_type": "code",
   "execution_count": null,
   "metadata": {},
   "outputs": [],
   "source": [
    "# this part for checking only\n",
    "\n",
    "#gate_params = ret[0]   # for next time\n",
    "print(\"Optimized gate parameters:\", gate_params)\n",
    "\n",
    "check_level = 1\n",
    "\n",
    "# Ground state expectation energy (by momentum space measurement)\n",
    "qcMom = get_ansatz_ham(gate_params,check_level)   # with Fourier block at the end\n",
    "t_qc_Mom = transpile(qcMom, backend)\n",
    "qobj_Mom = assemble(t_qc_Mom, shots=NUM_SHOTS)   \n",
    "counts_Mom = backend.run(qobj_Mom).result().get_counts(qcMom)\n",
    "output_distr_Mom = get_probability_distribution_new(counts_Mom)\n",
    "#print(\"===== Ground state momentum circuit below: =====\")\n",
    "#qcMom.draw('mpl')"
   ]
  },
  {
   "cell_type": "code",
   "execution_count": null,
   "metadata": {
    "scrolled": true
   },
   "outputs": [],
   "source": [
    "# ground state\n",
    "momError = 0 \n",
    "for i in range(2**QUBIT_COUNT):\n",
    "    # compute cost function in momentum space\n",
    "    momError += costArray[i]*output_distr_Mom[i]\n",
    "multiple = np.round(momError/min_eigenvalue, 3)\n",
    "print(\"Momentum cost is \", momError, \" a multiple of \", multiple)        \n",
    "    \n",
    "from qiskit.visualization import plot_histogram\n",
    "plot_histogram(counts_Mom, color='orange', title=\"Momentum measure\")"
   ]
  },
  {
   "cell_type": "markdown",
   "metadata": {},
   "source": [
    "\n",
    "### 6.3 Position space\n",
    "plot in blue"
   ]
  },
  {
   "cell_type": "code",
   "execution_count": null,
   "metadata": {
    "scrolled": false
   },
   "outputs": [],
   "source": [
    "# Obtain the position space output distribution using the final optimized parameters\n",
    "# corresponds to energy\n",
    "#gate_params = ret[0]\n",
    "#print(gate_params)\n",
    "qcPos = get_ansatz_pos(gate_params,check_level)   # maps phi_j to jth excited state Ej of Hamiltonian\n",
    "t_qc_Pos = transpile(qcPos, backend)\n",
    "qobj_Pos = assemble(t_qc_Pos, shots=NUM_SHOTS)   \n",
    "counts_Pos = backend.run(qobj_Pos).result().get_counts(qcPos)\n",
    "output_distr_Pos = get_probability_distribution_new(counts_Pos)\n",
    "print(\"  \")\n",
    "#print(\"Obtained Distribution:\", output_distr_Pos)\n",
    "print(\"===== Final optimized position circuit below: =====\")\n",
    "#qcPos.draw('mpl')"
   ]
  },
  {
   "cell_type": "code",
   "execution_count": null,
   "metadata": {
    "scrolled": false
   },
   "outputs": [],
   "source": [
    "from qiskit.visualization import plot_histogram\n",
    "plot_histogram(counts_Pos, color='midnightblue', title=\"Position measure\")"
   ]
  },
  {
   "cell_type": "code",
   "execution_count": null,
   "metadata": {},
   "outputs": [],
   "source": []
  },
  {
   "cell_type": "code",
   "execution_count": null,
   "metadata": {},
   "outputs": [],
   "source": []
  }
 ],
 "metadata": {
  "kernelspec": {
   "display_name": "Python 3",
   "language": "python",
   "name": "python3"
  },
  "language_info": {
   "codemirror_mode": {
    "name": "ipython",
    "version": 3
   },
   "file_extension": ".py",
   "mimetype": "text/x-python",
   "name": "python",
   "nbconvert_exporter": "python",
   "pygments_lexer": "ipython3",
   "version": "3.8.8"
  }
 },
 "nbformat": 4,
 "nbformat_minor": 4
}
