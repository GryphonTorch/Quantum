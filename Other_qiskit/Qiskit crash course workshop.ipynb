{
 "cells": [
  {
   "cell_type": "markdown",
   "id": "6365d27f",
   "metadata": {},
   "source": [
    "### 4 October crash course as part of YuQC Fall Fest\n",
    "\n",
    "Beamer slides format. Start with linear algebra \n",
    "- Spanning set, orthogonal, normal, basis\n",
    "- Linear map, eigenvector and eigenvalue\n",
    "- Matrices to Kets (coin example)\n",
    "- Overlaps and dot product. The inner product is conserved (same) across basis choices\n",
    "- Leap to Quantum: Hilbert space (complex vector space), has normalization. Adjoint, Hermitian conjugate\n",
    "- The Born rule: discrete measurement outcomes, Stern-Gerlach experiment where silver atoms are deflected only in two directions and not random continuously. \n",
    "- Euler's formula. e^itheta proof\n",
    "- Bloch sphere. global phase undetectable, only relative phase counts between |1> and |0>. Polar angle theta and azimuthal angle phi. For any state.\n",
    "\n",
    "- **Decoherence** comes from environment doing a measurement on the system (information is carted off); Qiskit simulates in a **closed** quantum environment. Nice magnitude 1 pure states on Bloch sphere's external \n",
    "- Quantum operators: transform matrices, preserve norm\n",
    "- X gate:  |0> to |1> and back;  X = |0><1| + |1><0|\n",
    "\n"
   ]
  },
  {
   "cell_type": "code",
   "execution_count": 3,
   "id": "8a6a6aad",
   "metadata": {},
   "outputs": [
    {
     "data": {
      "text/html": [
       "<h3>Version Information</h3><table><tr><th>Qiskit Software</th><th>Version</th></tr><tr><td><code>qiskit-terra</code></td><td>0.21.2</td></tr><tr><td><code>qiskit-aer</code></td><td>0.11.0</td></tr><tr><td><code>qiskit-ibmq-provider</code></td><td>0.19.2</td></tr><tr><td><code>qiskit</code></td><td>0.38.0</td></tr><tr><th>System information</th></tr><tr><td>Python version</td><td>3.10.4</td></tr><tr><td>Python compiler</td><td>Clang 12.0.0 </td></tr><tr><td>Python build</td><td>main, Mar 31 2022 03:37:37</td></tr><tr><td>OS</td><td>Darwin</td></tr><tr><td>CPUs</td><td>8</td></tr><tr><td>Memory (Gb)</td><td>8.0</td></tr><tr><td colspan='2'>Tue Oct 04 17:56:29 2022 EDT</td></tr></table>"
      ],
      "text/plain": [
       "<IPython.core.display.HTML object>"
      ]
     },
     "metadata": {},
     "output_type": "display_data"
    }
   ],
   "source": [
    "import qiskit\n",
    "\n",
    "import qiskit.tools.jupyter\n",
    "%qiskit_version_table\n"
   ]
  },
  {
   "cell_type": "code",
   "execution_count": null,
   "id": "1f54e1d0",
   "metadata": {},
   "outputs": [],
   "source": []
  }
 ],
 "metadata": {
  "kernelspec": {
   "display_name": "Python 3 (ipykernel)",
   "language": "python",
   "name": "python3"
  },
  "language_info": {
   "codemirror_mode": {
    "name": "ipython",
    "version": 3
   },
   "file_extension": ".py",
   "mimetype": "text/x-python",
   "name": "python",
   "nbconvert_exporter": "python",
   "pygments_lexer": "ipython3",
   "version": "3.10.4"
  }
 },
 "nbformat": 4,
 "nbformat_minor": 5
}
